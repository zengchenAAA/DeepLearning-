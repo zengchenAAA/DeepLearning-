{
 "cells": [
  {
   "cell_type": "markdown",
   "id": "e90d94d7",
   "metadata": {},
   "source": [
    "## Math operation"
   ]
  },
  {
   "cell_type": "markdown",
   "id": "b032b1d1",
   "metadata": {},
   "source": [
    "### add/minus/multiply/divide"
   ]
  },
  {
   "cell_type": "code",
   "execution_count": 4,
   "id": "4d88c315",
   "metadata": {},
   "outputs": [],
   "source": [
    "import torch"
   ]
  },
  {
   "cell_type": "code",
   "execution_count": 5,
   "id": "1b13f490",
   "metadata": {},
   "outputs": [],
   "source": [
    "a = torch.rand(3,4)"
   ]
  },
  {
   "cell_type": "code",
   "execution_count": 6,
   "id": "b7db8c5c",
   "metadata": {},
   "outputs": [],
   "source": [
    "b = torch.rand(4)"
   ]
  },
  {
   "cell_type": "code",
   "execution_count": 8,
   "id": "97048177",
   "metadata": {},
   "outputs": [
    {
     "data": {
      "text/plain": [
       "tensor([[0.6217, 0.3050, 1.2174, 0.8734],\n",
       "        [1.4195, 0.1732, 1.4134, 0.9378],\n",
       "        [0.8348, 0.1298, 1.4412, 1.3280]])"
      ]
     },
     "execution_count": 8,
     "metadata": {},
     "output_type": "execute_result"
    }
   ],
   "source": [
    "a+b   #broadcast机制"
   ]
  },
  {
   "cell_type": "code",
   "execution_count": 9,
   "id": "5d823d0c",
   "metadata": {},
   "outputs": [
    {
     "data": {
      "text/plain": [
       "tensor([[0.6217, 0.3050, 1.2174, 0.8734],\n",
       "        [1.4195, 0.1732, 1.4134, 0.9378],\n",
       "        [0.8348, 0.1298, 1.4412, 1.3280]])"
      ]
     },
     "execution_count": 9,
     "metadata": {},
     "output_type": "execute_result"
    }
   ],
   "source": [
    "torch.add(a,b)"
   ]
  },
  {
   "cell_type": "code",
   "execution_count": 10,
   "id": "b8daf6db",
   "metadata": {},
   "outputs": [
    {
     "data": {
      "text/plain": [
       "tensor(True)"
      ]
     },
     "execution_count": 10,
     "metadata": {},
     "output_type": "execute_result"
    }
   ],
   "source": [
    "torch.all(torch.eq(a-b,torch.sub(a,b)))"
   ]
  },
  {
   "cell_type": "code",
   "execution_count": 11,
   "id": "160f15df",
   "metadata": {},
   "outputs": [
    {
     "data": {
      "text/plain": [
       "tensor(True)"
      ]
     },
     "execution_count": 11,
     "metadata": {},
     "output_type": "execute_result"
    }
   ],
   "source": [
    "torch.all(torch.eq(a*b,torch.mul(a,b)))"
   ]
  },
  {
   "cell_type": "code",
   "execution_count": 12,
   "id": "5575c24f",
   "metadata": {},
   "outputs": [
    {
     "data": {
      "text/plain": [
       "tensor(True)"
      ]
     },
     "execution_count": 12,
     "metadata": {},
     "output_type": "execute_result"
    }
   ],
   "source": [
    "torch.all(torch.eq(a/b,torch.div(a,b)))"
   ]
  },
  {
   "cell_type": "markdown",
   "id": "4984c3d1",
   "metadata": {},
   "source": [
    "### matmul\n",
    "torch.mm (only for 2d)  \n",
    "torch.matmul  \n",
    "@  "
   ]
  },
  {
   "cell_type": "code",
   "execution_count": 21,
   "id": "c5850a21",
   "metadata": {},
   "outputs": [],
   "source": [
    "a = torch.full([2,2],3.)"
   ]
  },
  {
   "cell_type": "code",
   "execution_count": 22,
   "id": "7c337199",
   "metadata": {},
   "outputs": [
    {
     "data": {
      "text/plain": [
       "tensor([[3., 3.],\n",
       "        [3., 3.]])"
      ]
     },
     "execution_count": 22,
     "metadata": {},
     "output_type": "execute_result"
    }
   ],
   "source": [
    "a"
   ]
  },
  {
   "cell_type": "code",
   "execution_count": 23,
   "id": "2a150c39",
   "metadata": {},
   "outputs": [],
   "source": [
    "b = torch.ones(2,2)"
   ]
  },
  {
   "cell_type": "code",
   "execution_count": 24,
   "id": "1bb1298d",
   "metadata": {},
   "outputs": [
    {
     "data": {
      "text/plain": [
       "tensor([[6., 6.],\n",
       "        [6., 6.]])"
      ]
     },
     "execution_count": 24,
     "metadata": {},
     "output_type": "execute_result"
    }
   ],
   "source": [
    "torch.mm(a,b)"
   ]
  },
  {
   "cell_type": "code",
   "execution_count": 25,
   "id": "40a879c6",
   "metadata": {},
   "outputs": [
    {
     "data": {
      "text/plain": [
       "tensor([[6., 6.],\n",
       "        [6., 6.]])"
      ]
     },
     "execution_count": 25,
     "metadata": {},
     "output_type": "execute_result"
    }
   ],
   "source": [
    "torch.matmul(a,b)"
   ]
  },
  {
   "cell_type": "code",
   "execution_count": 26,
   "id": "e20d9ee9",
   "metadata": {},
   "outputs": [
    {
     "data": {
      "text/plain": [
       "tensor([[6., 6.],\n",
       "        [6., 6.]])"
      ]
     },
     "execution_count": 26,
     "metadata": {},
     "output_type": "execute_result"
    }
   ],
   "source": [
    "a@b"
   ]
  },
  {
   "cell_type": "code",
   "execution_count": 27,
   "id": "c10b1215",
   "metadata": {},
   "outputs": [],
   "source": [
    "a = torch.rand(4,784)"
   ]
  },
  {
   "cell_type": "code",
   "execution_count": 28,
   "id": "fcffbea7",
   "metadata": {},
   "outputs": [],
   "source": [
    "b = torch.rand(4,784)"
   ]
  },
  {
   "cell_type": "code",
   "execution_count": 29,
   "id": "66ee0b7b",
   "metadata": {},
   "outputs": [],
   "source": [
    "w = torch.rand(784,512) "
   ]
  },
  {
   "cell_type": "code",
   "execution_count": 31,
   "id": "21930ea4",
   "metadata": {},
   "outputs": [
    {
     "data": {
      "text/plain": [
       "torch.Size([4, 512])"
      ]
     },
     "execution_count": 31,
     "metadata": {},
     "output_type": "execute_result"
    }
   ],
   "source": [
    "(b@w).shape"
   ]
  },
  {
   "cell_type": "code",
   "execution_count": 32,
   "id": "1ad5cb7a",
   "metadata": {},
   "outputs": [],
   "source": [
    "a = torch.rand(4,3,28,64)"
   ]
  },
  {
   "cell_type": "code",
   "execution_count": 33,
   "id": "8e627d14",
   "metadata": {},
   "outputs": [],
   "source": [
    "b = torch.rand(4,3,64,32)"
   ]
  },
  {
   "cell_type": "code",
   "execution_count": 35,
   "id": "1512b176",
   "metadata": {},
   "outputs": [
    {
     "ename": "RuntimeError",
     "evalue": "self must be a matrix",
     "output_type": "error",
     "traceback": [
      "\u001b[1;31m---------------------------------------------------------------------------\u001b[0m",
      "\u001b[1;31mRuntimeError\u001b[0m                              Traceback (most recent call last)",
      "Input \u001b[1;32mIn [35]\u001b[0m, in \u001b[0;36m<cell line: 1>\u001b[1;34m()\u001b[0m\n\u001b[1;32m----> 1\u001b[0m \u001b[43mtorch\u001b[49m\u001b[38;5;241;43m.\u001b[39;49m\u001b[43mmm\u001b[49m\u001b[43m(\u001b[49m\u001b[43ma\u001b[49m\u001b[43m,\u001b[49m\u001b[43mb\u001b[49m\u001b[43m)\u001b[49m\u001b[38;5;241m.\u001b[39mshape\n",
      "\u001b[1;31mRuntimeError\u001b[0m: self must be a matrix"
     ]
    }
   ],
   "source": [
    "torch.mm(a,b).shape"
   ]
  },
  {
   "cell_type": "code",
   "execution_count": 36,
   "id": "75547bcd",
   "metadata": {},
   "outputs": [
    {
     "data": {
      "text/plain": [
       "torch.Size([4, 3, 28, 32])"
      ]
     },
     "execution_count": 36,
     "metadata": {},
     "output_type": "execute_result"
    }
   ],
   "source": [
    "torch.matmul(a,b).shape   #多维矩阵的相乘就是最后两个维度相乘"
   ]
  },
  {
   "cell_type": "code",
   "execution_count": 37,
   "id": "f097c5bb",
   "metadata": {},
   "outputs": [],
   "source": [
    "b = torch.rand(4,1,64,32)"
   ]
  },
  {
   "cell_type": "code",
   "execution_count": 38,
   "id": "4322b801",
   "metadata": {},
   "outputs": [
    {
     "data": {
      "text/plain": [
       "torch.Size([4, 3, 28, 32])"
      ]
     },
     "execution_count": 38,
     "metadata": {},
     "output_type": "execute_result"
    }
   ],
   "source": [
    "torch.matmul(a,b).shape  #相乘利用了broadcast机制"
   ]
  },
  {
   "cell_type": "markdown",
   "id": "6b6af9f6",
   "metadata": {},
   "source": [
    "### power"
   ]
  },
  {
   "cell_type": "code",
   "execution_count": 39,
   "id": "32ceeef6",
   "metadata": {},
   "outputs": [],
   "source": [
    "a = torch.full([2,2],3)"
   ]
  },
  {
   "cell_type": "code",
   "execution_count": 40,
   "id": "c99a81e4",
   "metadata": {},
   "outputs": [
    {
     "data": {
      "text/plain": [
       "tensor([[9, 9],\n",
       "        [9, 9]])"
      ]
     },
     "execution_count": 40,
     "metadata": {},
     "output_type": "execute_result"
    }
   ],
   "source": [
    "a.pow(2)"
   ]
  },
  {
   "cell_type": "code",
   "execution_count": 41,
   "id": "1d03f033",
   "metadata": {},
   "outputs": [
    {
     "data": {
      "text/plain": [
       "tensor([[9, 9],\n",
       "        [9, 9]])"
      ]
     },
     "execution_count": 41,
     "metadata": {},
     "output_type": "execute_result"
    }
   ],
   "source": [
    "a**2"
   ]
  },
  {
   "cell_type": "code",
   "execution_count": 43,
   "id": "8e188c29",
   "metadata": {},
   "outputs": [],
   "source": [
    "aa = a**2"
   ]
  },
  {
   "cell_type": "code",
   "execution_count": 45,
   "id": "5bfb0f1b",
   "metadata": {},
   "outputs": [
    {
     "data": {
      "text/plain": [
       "tensor([[0.3333, 0.3333],\n",
       "        [0.3333, 0.3333]])"
      ]
     },
     "execution_count": 45,
     "metadata": {},
     "output_type": "execute_result"
    }
   ],
   "source": [
    "aa.rsqrt()  #每个元素取平方根后再取倒数"
   ]
  },
  {
   "cell_type": "code",
   "execution_count": 46,
   "id": "826e30d0",
   "metadata": {},
   "outputs": [
    {
     "data": {
      "text/plain": [
       "tensor([[3., 3.],\n",
       "        [3., 3.]])"
      ]
     },
     "execution_count": 46,
     "metadata": {},
     "output_type": "execute_result"
    }
   ],
   "source": [
    "aa**(0.5)"
   ]
  },
  {
   "cell_type": "markdown",
   "id": "a2ca4ee4",
   "metadata": {},
   "source": [
    "### exp log"
   ]
  },
  {
   "cell_type": "code",
   "execution_count": 47,
   "id": "ff8d39aa",
   "metadata": {},
   "outputs": [],
   "source": [
    "a = torch.exp(torch.ones(2,2))  #e的次方"
   ]
  },
  {
   "cell_type": "code",
   "execution_count": 48,
   "id": "74d03d36",
   "metadata": {},
   "outputs": [
    {
     "data": {
      "text/plain": [
       "tensor([[2.7183, 2.7183],\n",
       "        [2.7183, 2.7183]])"
      ]
     },
     "execution_count": 48,
     "metadata": {},
     "output_type": "execute_result"
    }
   ],
   "source": [
    "a"
   ]
  },
  {
   "cell_type": "code",
   "execution_count": 50,
   "id": "44a08744",
   "metadata": {},
   "outputs": [
    {
     "data": {
      "text/plain": [
       "tensor([[1., 1.],\n",
       "        [1., 1.]])"
      ]
     },
     "execution_count": 50,
     "metadata": {},
     "output_type": "execute_result"
    }
   ],
   "source": [
    "torch.log(a)  #log以e为底"
   ]
  },
  {
   "cell_type": "markdown",
   "id": "5e51b435",
   "metadata": {},
   "source": [
    "### Approximation"
   ]
  },
  {
   "cell_type": "markdown",
   "id": "bef82709",
   "metadata": {},
   "source": [
    ".floor() .ceil()  \n",
    ".round()  \n",
    ".trunc()(小数点前数字) .frac()(小数点后面数字)  "
   ]
  },
  {
   "cell_type": "code",
   "execution_count": 52,
   "id": "524b5ee4",
   "metadata": {},
   "outputs": [],
   "source": [
    "a = torch.tensor(3.14)"
   ]
  },
  {
   "cell_type": "code",
   "execution_count": 53,
   "id": "e441cfea",
   "metadata": {},
   "outputs": [
    {
     "data": {
      "text/plain": [
       "(tensor(3.), tensor(4.), tensor(3.), tensor(0.1400))"
      ]
     },
     "execution_count": 53,
     "metadata": {},
     "output_type": "execute_result"
    }
   ],
   "source": [
    "a.floor(),a.ceil(),a.trunc(),a.frac()"
   ]
  },
  {
   "cell_type": "code",
   "execution_count": 54,
   "id": "28376b8f",
   "metadata": {},
   "outputs": [],
   "source": [
    "a = torch.tensor(3.499)"
   ]
  },
  {
   "cell_type": "code",
   "execution_count": 55,
   "id": "7c5e73ca",
   "metadata": {},
   "outputs": [
    {
     "data": {
      "text/plain": [
       "tensor(3.)"
      ]
     },
     "execution_count": 55,
     "metadata": {},
     "output_type": "execute_result"
    }
   ],
   "source": [
    "a.round()"
   ]
  },
  {
   "cell_type": "code",
   "execution_count": 56,
   "id": "eb71c306",
   "metadata": {},
   "outputs": [],
   "source": [
    "a = torch.tensor(3.5)"
   ]
  },
  {
   "cell_type": "code",
   "execution_count": 57,
   "id": "8f9365f8",
   "metadata": {},
   "outputs": [
    {
     "data": {
      "text/plain": [
       "tensor(4.)"
      ]
     },
     "execution_count": 57,
     "metadata": {},
     "output_type": "execute_result"
    }
   ],
   "source": [
    "a.round()"
   ]
  },
  {
   "cell_type": "markdown",
   "id": "7ba94af3",
   "metadata": {},
   "source": [
    "### clamp"
   ]
  },
  {
   "cell_type": "markdown",
   "id": "45a44682",
   "metadata": {},
   "source": [
    "gradient clipping  \n",
    "(min)  \n",
    "(min, max)"
   ]
  },
  {
   "cell_type": "code",
   "execution_count": 62,
   "id": "e0b5f57c",
   "metadata": {},
   "outputs": [],
   "source": [
    "grad = torch.rand(2,3)*15"
   ]
  },
  {
   "cell_type": "code",
   "execution_count": 63,
   "id": "36cdeacc",
   "metadata": {},
   "outputs": [
    {
     "data": {
      "text/plain": [
       "tensor(13.6933)"
      ]
     },
     "execution_count": 63,
     "metadata": {},
     "output_type": "execute_result"
    }
   ],
   "source": [
    "grad.max()"
   ]
  },
  {
   "cell_type": "code",
   "execution_count": 64,
   "id": "5646e352",
   "metadata": {},
   "outputs": [
    {
     "data": {
      "text/plain": [
       "tensor(9.4789)"
      ]
     },
     "execution_count": 64,
     "metadata": {},
     "output_type": "execute_result"
    }
   ],
   "source": [
    "grad.median()"
   ]
  },
  {
   "cell_type": "code",
   "execution_count": 65,
   "id": "268ef3cf",
   "metadata": {},
   "outputs": [
    {
     "data": {
      "text/plain": [
       "tensor([[10.0000, 10.0000, 10.0000],\n",
       "        [13.1776, 13.6933, 13.2330]])"
      ]
     },
     "execution_count": 65,
     "metadata": {},
     "output_type": "execute_result"
    }
   ],
   "source": [
    "grad.clamp(10)   #小于10的全部变成10"
   ]
  },
  {
   "cell_type": "code",
   "execution_count": 66,
   "id": "dd7d8fe6",
   "metadata": {},
   "outputs": [
    {
     "data": {
      "text/plain": [
       "tensor([[ 3.9290,  7.5916,  9.4789],\n",
       "        [13.1776, 13.6933, 13.2330]])"
      ]
     },
     "execution_count": 66,
     "metadata": {},
     "output_type": "execute_result"
    }
   ],
   "source": [
    "grad"
   ]
  },
  {
   "cell_type": "code",
   "execution_count": 69,
   "id": "2104ac05",
   "metadata": {},
   "outputs": [
    {
     "data": {
      "text/plain": [
       "tensor([[ 5.0000,  7.5916,  9.4789],\n",
       "        [10.0000, 10.0000, 10.0000]])"
      ]
     },
     "execution_count": 69,
     "metadata": {},
     "output_type": "execute_result"
    }
   ],
   "source": [
    "grad.clamp(5,10)  #小于5为5，大于10为10"
   ]
  },
  {
   "cell_type": "code",
   "execution_count": null,
   "id": "00f34476",
   "metadata": {},
   "outputs": [],
   "source": []
  }
 ],
 "metadata": {
  "kernelspec": {
   "display_name": "Python 3 (ipykernel)",
   "language": "python",
   "name": "python3"
  },
  "language_info": {
   "codemirror_mode": {
    "name": "ipython",
    "version": 3
   },
   "file_extension": ".py",
   "mimetype": "text/x-python",
   "name": "python",
   "nbconvert_exporter": "python",
   "pygments_lexer": "ipython3",
   "version": "3.9.12"
  }
 },
 "nbformat": 4,
 "nbformat_minor": 5
}
