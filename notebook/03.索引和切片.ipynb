{
 "cells": [
  {
   "cell_type": "code",
   "execution_count": 2,
   "id": "0a2240ed",
   "metadata": {},
   "outputs": [],
   "source": [
    "import torch\n",
    "import numpy"
   ]
  },
  {
   "cell_type": "markdown",
   "id": "9c259584",
   "metadata": {},
   "source": [
    "### indexing"
   ]
  },
  {
   "cell_type": "code",
   "execution_count": 3,
   "id": "ab76c6c7",
   "metadata": {},
   "outputs": [],
   "source": [
    "a = torch.rand(4,3,28,28)"
   ]
  },
  {
   "cell_type": "code",
   "execution_count": 4,
   "id": "1c80ad73",
   "metadata": {},
   "outputs": [
    {
     "data": {
      "text/plain": [
       "torch.Size([3, 28, 28])"
      ]
     },
     "execution_count": 4,
     "metadata": {},
     "output_type": "execute_result"
    }
   ],
   "source": [
    "a[0].shape"
   ]
  },
  {
   "cell_type": "code",
   "execution_count": 5,
   "id": "7e290998",
   "metadata": {},
   "outputs": [
    {
     "data": {
      "text/plain": [
       "torch.Size([28, 28])"
      ]
     },
     "execution_count": 5,
     "metadata": {},
     "output_type": "execute_result"
    }
   ],
   "source": [
    "a[0,0].shape"
   ]
  },
  {
   "cell_type": "code",
   "execution_count": 6,
   "id": "c138f261",
   "metadata": {},
   "outputs": [
    {
     "data": {
      "text/plain": [
       "tensor(0.9444)"
      ]
     },
     "execution_count": 6,
     "metadata": {},
     "output_type": "execute_result"
    }
   ],
   "source": [
    "a[0,0,2,4]"
   ]
  },
  {
   "cell_type": "code",
   "execution_count": 7,
   "id": "8364b5fd",
   "metadata": {},
   "outputs": [
    {
     "data": {
      "text/plain": [
       "tensor(0.9444)"
      ]
     },
     "execution_count": 7,
     "metadata": {},
     "output_type": "execute_result"
    }
   ],
   "source": [
    "a[0,0,2,4]"
   ]
  },
  {
   "cell_type": "code",
   "execution_count": 9,
   "id": "31d15833",
   "metadata": {},
   "outputs": [
    {
     "data": {
      "text/plain": [
       "torch.Size([4, 3, 28, 28])"
      ]
     },
     "execution_count": 9,
     "metadata": {},
     "output_type": "execute_result"
    }
   ],
   "source": [
    "a.shape"
   ]
  },
  {
   "cell_type": "code",
   "execution_count": 11,
   "id": "e67c2ce3",
   "metadata": {},
   "outputs": [
    {
     "data": {
      "text/plain": [
       "torch.Size([2, 3, 28, 28])"
      ]
     },
     "execution_count": 11,
     "metadata": {},
     "output_type": "execute_result"
    }
   ],
   "source": [
    "a[:2].shape  # dim 0 从0到2(不包含2)"
   ]
  },
  {
   "cell_type": "code",
   "execution_count": 12,
   "id": "e3eeb89d",
   "metadata": {},
   "outputs": [
    {
     "data": {
      "text/plain": [
       "torch.Size([2, 2, 28, 28])"
      ]
     },
     "execution_count": 12,
     "metadata": {},
     "output_type": "execute_result"
    }
   ],
   "source": [
    "a[:2,1:,:,:].shape"
   ]
  },
  {
   "cell_type": "code",
   "execution_count": 17,
   "id": "654393b0",
   "metadata": {},
   "outputs": [
    {
     "data": {
      "text/plain": [
       "torch.Size([2, 1, 28, 28])"
      ]
     },
     "execution_count": 17,
     "metadata": {},
     "output_type": "execute_result"
    }
   ],
   "source": [
    "a[:2,-1:,:,:].shape"
   ]
  },
  {
   "cell_type": "markdown",
   "id": "8e7b5bcf",
   "metadata": {},
   "source": [
    "### select by steps"
   ]
  },
  {
   "cell_type": "code",
   "execution_count": 18,
   "id": "27384af3",
   "metadata": {},
   "outputs": [
    {
     "data": {
      "text/plain": [
       "torch.Size([4, 3, 14, 14])"
      ]
     },
     "execution_count": 18,
     "metadata": {},
     "output_type": "execute_result"
    }
   ],
   "source": [
    "a[:,:,0:28:2,0:28:2].shape"
   ]
  },
  {
   "cell_type": "code",
   "execution_count": 19,
   "id": "e4ffaa82",
   "metadata": {},
   "outputs": [
    {
     "data": {
      "text/plain": [
       "torch.Size([4, 3, 14, 14])"
      ]
     },
     "execution_count": 19,
     "metadata": {},
     "output_type": "execute_result"
    }
   ],
   "source": [
    "a[:,:,::2,::2].size()"
   ]
  },
  {
   "cell_type": "markdown",
   "id": "51792284",
   "metadata": {},
   "source": [
    "### select by specific index"
   ]
  },
  {
   "cell_type": "code",
   "execution_count": 20,
   "id": "15ef0fcf",
   "metadata": {},
   "outputs": [
    {
     "data": {
      "text/plain": [
       "torch.Size([4, 3, 28, 28])"
      ]
     },
     "execution_count": 20,
     "metadata": {},
     "output_type": "execute_result"
    }
   ],
   "source": [
    "a.shape"
   ]
  },
  {
   "cell_type": "code",
   "execution_count": 33,
   "id": "c0c424f2",
   "metadata": {},
   "outputs": [
    {
     "data": {
      "text/plain": [
       "torch.Size([2, 3, 28, 28])"
      ]
     },
     "execution_count": 33,
     "metadata": {},
     "output_type": "execute_result"
    }
   ],
   "source": [
    "a.index_select(0,torch.tensor([0,2])).size() \n",
    "#注意第二个参数  必须是torch.tensor的类型的list"
   ]
  },
  {
   "cell_type": "code",
   "execution_count": 29,
   "id": "2548fdc3",
   "metadata": {},
   "outputs": [
    {
     "data": {
      "text/plain": [
       "torch.Size([2, 3, 28, 28])"
      ]
     },
     "execution_count": 29,
     "metadata": {},
     "output_type": "execute_result"
    }
   ],
   "source": [
    "a.index_select(0,torch.arange(2)).shape"
   ]
  },
  {
   "cell_type": "code",
   "execution_count": 35,
   "id": "26161e68",
   "metadata": {},
   "outputs": [
    {
     "data": {
      "text/plain": [
       "torch.Size([4, 2, 28, 28])"
      ]
     },
     "execution_count": 35,
     "metadata": {},
     "output_type": "execute_result"
    }
   ],
   "source": [
    "a.index_select(1,torch.tensor([1,2])).size()"
   ]
  },
  {
   "cell_type": "code",
   "execution_count": 36,
   "id": "ee8c0c7f",
   "metadata": {},
   "outputs": [
    {
     "data": {
      "text/plain": [
       "torch.Size([4, 3, 28, 28])"
      ]
     },
     "execution_count": 36,
     "metadata": {},
     "output_type": "execute_result"
    }
   ],
   "source": [
    "a.index_select(2,torch.arange(28)).shape"
   ]
  },
  {
   "cell_type": "code",
   "execution_count": 37,
   "id": "f84af993",
   "metadata": {},
   "outputs": [
    {
     "data": {
      "text/plain": [
       "torch.Size([4, 3, 8, 28])"
      ]
     },
     "execution_count": 37,
     "metadata": {},
     "output_type": "execute_result"
    }
   ],
   "source": [
    "a.index_select(2,torch.arange(8)).shape"
   ]
  },
  {
   "cell_type": "markdown",
   "id": "1103b5c2",
   "metadata": {},
   "source": [
    "### ..."
   ]
  },
  {
   "cell_type": "code",
   "execution_count": 38,
   "id": "3cc85174",
   "metadata": {},
   "outputs": [
    {
     "data": {
      "text/plain": [
       "torch.Size([4, 3, 28, 28])"
      ]
     },
     "execution_count": 38,
     "metadata": {},
     "output_type": "execute_result"
    }
   ],
   "source": [
    "a.size()"
   ]
  },
  {
   "cell_type": "code",
   "execution_count": 39,
   "id": "31f501f8",
   "metadata": {},
   "outputs": [
    {
     "data": {
      "text/plain": [
       "torch.Size([4, 3, 28, 28])"
      ]
     },
     "execution_count": 39,
     "metadata": {},
     "output_type": "execute_result"
    }
   ],
   "source": [
    "a[...].shape"
   ]
  },
  {
   "cell_type": "code",
   "execution_count": 40,
   "id": "41057b8c",
   "metadata": {},
   "outputs": [
    {
     "data": {
      "text/plain": [
       "torch.Size([3, 28, 28])"
      ]
     },
     "execution_count": 40,
     "metadata": {},
     "output_type": "execute_result"
    }
   ],
   "source": [
    "a[0,...].shape"
   ]
  },
  {
   "cell_type": "code",
   "execution_count": 41,
   "id": "d42d95b9",
   "metadata": {},
   "outputs": [
    {
     "data": {
      "text/plain": [
       "torch.Size([4, 28, 28])"
      ]
     },
     "execution_count": 41,
     "metadata": {},
     "output_type": "execute_result"
    }
   ],
   "source": [
    "a[:,1,...].shape"
   ]
  },
  {
   "cell_type": "code",
   "execution_count": 42,
   "id": "6ba675f8",
   "metadata": {},
   "outputs": [
    {
     "data": {
      "text/plain": [
       "torch.Size([4, 3, 28, 2])"
      ]
     },
     "execution_count": 42,
     "metadata": {},
     "output_type": "execute_result"
    }
   ],
   "source": [
    "a[...,:2].shape"
   ]
  },
  {
   "cell_type": "markdown",
   "id": "6a789af1",
   "metadata": {},
   "source": [
    "### select by mask  (会压缩)"
   ]
  },
  {
   "cell_type": "code",
   "execution_count": 53,
   "id": "d8739f75",
   "metadata": {},
   "outputs": [],
   "source": [
    "x = torch.randn(3,4)"
   ]
  },
  {
   "cell_type": "code",
   "execution_count": 54,
   "id": "4565fcc9",
   "metadata": {},
   "outputs": [
    {
     "data": {
      "text/plain": [
       "tensor([[-0.7071, -1.7327,  0.6957,  2.0876],\n",
       "        [ 0.2140,  0.1665,  1.2101, -0.2969],\n",
       "        [ 2.0180, -0.2000,  0.3956, -0.8471]])"
      ]
     },
     "execution_count": 54,
     "metadata": {},
     "output_type": "execute_result"
    }
   ],
   "source": [
    "x"
   ]
  },
  {
   "cell_type": "code",
   "execution_count": 55,
   "id": "cbd92cbe",
   "metadata": {},
   "outputs": [],
   "source": [
    "mask = torch.ge(x,0.5)   #.ge()  greater equal  （大于）"
   ]
  },
  {
   "cell_type": "code",
   "execution_count": 56,
   "id": "5adc96f4",
   "metadata": {},
   "outputs": [
    {
     "data": {
      "text/plain": [
       "tensor([[False, False,  True,  True],\n",
       "        [False, False,  True, False],\n",
       "        [ True, False, False, False]])"
      ]
     },
     "execution_count": 56,
     "metadata": {},
     "output_type": "execute_result"
    }
   ],
   "source": [
    "mask"
   ]
  },
  {
   "cell_type": "code",
   "execution_count": 57,
   "id": "e72f0675",
   "metadata": {},
   "outputs": [
    {
     "data": {
      "text/plain": [
       "tensor([0.6957, 2.0876, 1.2101, 2.0180])"
      ]
     },
     "execution_count": 57,
     "metadata": {},
     "output_type": "execute_result"
    }
   ],
   "source": [
    "torch.masked_select(x,mask)"
   ]
  },
  {
   "cell_type": "code",
   "execution_count": 58,
   "id": "f8d8e4bd",
   "metadata": {},
   "outputs": [
    {
     "data": {
      "text/plain": [
       "torch.Size([4])"
      ]
     },
     "execution_count": 58,
     "metadata": {},
     "output_type": "execute_result"
    }
   ],
   "source": [
    "torch.masked_select(x,mask).shape"
   ]
  },
  {
   "cell_type": "markdown",
   "id": "2635df9b",
   "metadata": {},
   "source": [
    "### select by flatten index"
   ]
  },
  {
   "cell_type": "code",
   "execution_count": 60,
   "id": "9abd59e3",
   "metadata": {},
   "outputs": [],
   "source": [
    "src = torch.tensor([[4,3,5],[6,7,8]])"
   ]
  },
  {
   "cell_type": "code",
   "execution_count": 62,
   "id": "ddee2738",
   "metadata": {},
   "outputs": [
    {
     "data": {
      "text/plain": [
       "tensor([4, 5, 8])"
      ]
     },
     "execution_count": 62,
     "metadata": {},
     "output_type": "execute_result"
    }
   ],
   "source": [
    "torch.take(src,torch.tensor([0,2,5])) \n",
    "#将维度压扁 之后根据压扁的下标选择数值"
   ]
  },
  {
   "cell_type": "code",
   "execution_count": null,
   "id": "e5f73cd9",
   "metadata": {},
   "outputs": [],
   "source": []
  }
 ],
 "metadata": {
  "kernelspec": {
   "display_name": "Python 3 (ipykernel)",
   "language": "python",
   "name": "python3"
  },
  "language_info": {
   "codemirror_mode": {
    "name": "ipython",
    "version": 3
   },
   "file_extension": ".py",
   "mimetype": "text/x-python",
   "name": "python",
   "nbconvert_exporter": "python",
   "pygments_lexer": "ipython3",
   "version": "3.9.12"
  }
 },
 "nbformat": 4,
 "nbformat_minor": 5
}
