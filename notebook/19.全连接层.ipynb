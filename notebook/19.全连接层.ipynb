{
 "cells": [
  {
   "cell_type": "code",
   "execution_count": 19,
   "id": "4b8e45bc",
   "metadata": {},
   "outputs": [],
   "source": [
    "import torch\n",
    "import torch.nn as nn\n",
    "import torch.nn.functional as F\n",
    "import torch.optim as optim\n",
    "from torchvision import datasets, transforms"
   ]
  },
  {
   "cell_type": "markdown",
   "id": "53ecb274",
   "metadata": {},
   "source": [
    "## nn.Linear"
   ]
  },
  {
   "cell_type": "code",
   "execution_count": 4,
   "id": "9dd7f60a",
   "metadata": {},
   "outputs": [],
   "source": [
    "x = torch.randn(1,784)"
   ]
  },
  {
   "cell_type": "code",
   "execution_count": 6,
   "id": "bbb16429",
   "metadata": {},
   "outputs": [
    {
     "data": {
      "text/plain": [
       "torch.Size([1, 784])"
      ]
     },
     "execution_count": 6,
     "metadata": {},
     "output_type": "execute_result"
    }
   ],
   "source": [
    "x.shape"
   ]
  },
  {
   "cell_type": "code",
   "execution_count": 8,
   "id": "cc82f011",
   "metadata": {},
   "outputs": [],
   "source": [
    "layer1 = nn.Linear(784, 200)\n",
    "layer2 = nn.Linear(200, 200)\n",
    "layer3 = nn.Linear(200, 10)"
   ]
  },
  {
   "cell_type": "code",
   "execution_count": 9,
   "id": "1531e7cc",
   "metadata": {},
   "outputs": [
    {
     "data": {
      "text/plain": [
       "torch.Size([1, 200])"
      ]
     },
     "execution_count": 9,
     "metadata": {},
     "output_type": "execute_result"
    }
   ],
   "source": [
    "x=layer1(x)\n",
    "x.size()"
   ]
  },
  {
   "cell_type": "code",
   "execution_count": 11,
   "id": "04c7b973",
   "metadata": {},
   "outputs": [
    {
     "data": {
      "text/plain": [
       "torch.Size([1, 200])"
      ]
     },
     "execution_count": 11,
     "metadata": {},
     "output_type": "execute_result"
    }
   ],
   "source": [
    "x = layer2(x)\n",
    "x.size()"
   ]
  },
  {
   "cell_type": "code",
   "execution_count": 12,
   "id": "edd96ecd",
   "metadata": {},
   "outputs": [
    {
     "data": {
      "text/plain": [
       "torch.Size([1, 10])"
      ]
     },
     "execution_count": 12,
     "metadata": {},
     "output_type": "execute_result"
    }
   ],
   "source": [
    "x = layer3(x)\n",
    "x.shape"
   ]
  },
  {
   "cell_type": "code",
   "execution_count": 14,
   "id": "b2ba9055",
   "metadata": {},
   "outputs": [],
   "source": [
    "x = torch.randn(1,784)"
   ]
  },
  {
   "cell_type": "code",
   "execution_count": 15,
   "id": "07b16362",
   "metadata": {},
   "outputs": [
    {
     "data": {
      "text/plain": [
       "torch.Size([1, 200])"
      ]
     },
     "execution_count": 15,
     "metadata": {},
     "output_type": "execute_result"
    }
   ],
   "source": [
    "x=layer1(x)\n",
    "x=F.relu(x, inplace = True) #inplace = True是指原地进行操作，操作完成后覆盖原来的变量。\n",
    "x.size()"
   ]
  },
  {
   "cell_type": "code",
   "execution_count": 16,
   "id": "e79e3206",
   "metadata": {},
   "outputs": [
    {
     "data": {
      "text/plain": [
       "torch.Size([1, 200])"
      ]
     },
     "execution_count": 16,
     "metadata": {},
     "output_type": "execute_result"
    }
   ],
   "source": [
    "x = layer2(x)\n",
    "x = F.relu(x, inplace = True)\n",
    "x.size()"
   ]
  },
  {
   "cell_type": "code",
   "execution_count": 17,
   "id": "bbcbf669",
   "metadata": {},
   "outputs": [
    {
     "data": {
      "text/plain": [
       "torch.Size([1, 10])"
      ]
     },
     "execution_count": 17,
     "metadata": {},
     "output_type": "execute_result"
    }
   ],
   "source": [
    "x = layer3(x)\n",
    "x = F.relu(x, inplace = True)\n",
    "x.size()"
   ]
  },
  {
   "cell_type": "markdown",
   "id": "eadfac04",
   "metadata": {},
   "source": [
    "## concisely"
   ]
  },
  {
   "cell_type": "markdown",
   "id": "6d532d28",
   "metadata": {},
   "source": [
    "* inherit from nn.Module\n",
    "* init layer in _init_\n",
    "* implement forward()"
   ]
  },
  {
   "cell_type": "code",
   "execution_count": 20,
   "id": "1ea3399c",
   "metadata": {},
   "outputs": [],
   "source": [
    "class MLP(nn.Module):\n",
    "    def __init__(self):\n",
    "        super(MLP, self).__init__()\n",
    "        self.model = nn.Sequential(\n",
    "            nn.Linear(784,200),\n",
    "            nn.leakyReLU(inplace = True),\n",
    "            nn.Linear(200,200),\n",
    "            nn.leakyReLU(inplace = True),\n",
    "            nn.Linear(200,10),\n",
    "        )\n",
    "    def forward(self, x):\n",
    "        x = self.model(x)\n",
    "        return x"
   ]
  },
  {
   "cell_type": "markdown",
   "id": "1636608e",
   "metadata": {},
   "source": [
    "## nn.ReLU v.s. F.relu()"
   ]
  },
  {
   "cell_type": "markdown",
   "id": "bdf2fe5c",
   "metadata": {},
   "source": [
    "* class-style API\n",
    "* function-style API  \n",
    "其中使用class-style，w和b都是由内部管理，而function-style则是外部管理 你可以自己定义w和b 然后对其操作"
   ]
  },
  {
   "cell_type": "code",
   "execution_count": 27,
   "id": "77a6db1a",
   "metadata": {},
   "outputs": [
    {
     "name": "stdout",
     "output_type": "stream",
     "text": [
      "Train Epoch: 0 [0/60000 (0%)]\tLoss: 2.323248\n",
      "Train Epoch: 0 [20000/60000 (33%)]\tLoss: 0.236568\n",
      "Train Epoch: 0 [40000/60000 (67%)]\tLoss: 0.213086\n",
      "\n",
      "Test set: Average loss: 0.0008, Accuracy: 9526/10000 (95%)\n",
      "\n",
      "Train Epoch: 1 [0/60000 (0%)]\tLoss: 0.174764\n",
      "Train Epoch: 1 [20000/60000 (33%)]\tLoss: 0.076551\n",
      "Train Epoch: 1 [40000/60000 (67%)]\tLoss: 0.220263\n",
      "\n",
      "Test set: Average loss: 0.0007, Accuracy: 9565/10000 (96%)\n",
      "\n",
      "Train Epoch: 2 [0/60000 (0%)]\tLoss: 0.102539\n",
      "Train Epoch: 2 [20000/60000 (33%)]\tLoss: 0.126752\n",
      "Train Epoch: 2 [40000/60000 (67%)]\tLoss: 0.094567\n",
      "\n",
      "Test set: Average loss: 0.0008, Accuracy: 9582/10000 (96%)\n",
      "\n",
      "Train Epoch: 3 [0/60000 (0%)]\tLoss: 0.093816\n",
      "Train Epoch: 3 [20000/60000 (33%)]\tLoss: 0.130292\n",
      "Train Epoch: 3 [40000/60000 (67%)]\tLoss: 0.072976\n",
      "\n",
      "Test set: Average loss: 0.0007, Accuracy: 9627/10000 (96%)\n",
      "\n",
      "Train Epoch: 4 [0/60000 (0%)]\tLoss: 0.108692\n",
      "Train Epoch: 4 [20000/60000 (33%)]\tLoss: 0.096645\n",
      "Train Epoch: 4 [40000/60000 (67%)]\tLoss: 0.102160\n",
      "\n",
      "Test set: Average loss: 0.0008, Accuracy: 9605/10000 (96%)\n",
      "\n",
      "Train Epoch: 5 [0/60000 (0%)]\tLoss: 0.189608\n",
      "Train Epoch: 5 [20000/60000 (33%)]\tLoss: 0.053874\n",
      "Train Epoch: 5 [40000/60000 (67%)]\tLoss: 0.076889\n",
      "\n",
      "Test set: Average loss: 0.0008, Accuracy: 9619/10000 (96%)\n",
      "\n",
      "Train Epoch: 6 [0/60000 (0%)]\tLoss: 0.037539\n",
      "Train Epoch: 6 [20000/60000 (33%)]\tLoss: 0.135822\n",
      "Train Epoch: 6 [40000/60000 (67%)]\tLoss: 0.062143\n",
      "\n",
      "Test set: Average loss: 0.0007, Accuracy: 9677/10000 (97%)\n",
      "\n",
      "Train Epoch: 7 [0/60000 (0%)]\tLoss: 0.124544\n",
      "Train Epoch: 7 [20000/60000 (33%)]\tLoss: 0.138850\n",
      "Train Epoch: 7 [40000/60000 (67%)]\tLoss: 0.125690\n",
      "\n",
      "Test set: Average loss: 0.0009, Accuracy: 9627/10000 (96%)\n",
      "\n",
      "Train Epoch: 8 [0/60000 (0%)]\tLoss: 0.064904\n",
      "Train Epoch: 8 [20000/60000 (33%)]\tLoss: 0.070542\n",
      "Train Epoch: 8 [40000/60000 (67%)]\tLoss: 0.090232\n",
      "\n",
      "Test set: Average loss: 0.0007, Accuracy: 9677/10000 (97%)\n",
      "\n",
      "Train Epoch: 9 [0/60000 (0%)]\tLoss: 0.044359\n",
      "Train Epoch: 9 [20000/60000 (33%)]\tLoss: 0.080658\n",
      "Train Epoch: 9 [40000/60000 (67%)]\tLoss: 0.053966\n",
      "\n",
      "Test set: Average loss: 0.0008, Accuracy: 9650/10000 (96%)\n",
      "\n"
     ]
    }
   ],
   "source": [
    "batch_size = 200\n",
    "learning_rate = 0.01\n",
    "epochs = 10\n",
    "\n",
    "train_loader = torch.utils.data.DataLoader(\n",
    "    datasets.MNIST('../data', train=True, download=False,\n",
    "                   transform=transforms.Compose([\n",
    "                       transforms.ToTensor(),\n",
    "                       transforms.Normalize((0.1307,), (0.3081,))\n",
    "                   ])),\n",
    "    batch_size=batch_size, shuffle=True)\n",
    "test_loader = torch.utils.data.DataLoader(\n",
    "    datasets.MNIST('../data', train=False, transform=transforms.Compose([\n",
    "        transforms.ToTensor(),\n",
    "        transforms.Normalize((0.1307,), (0.3081,))\n",
    "    ])),\n",
    "    batch_size=batch_size, shuffle=True)\n",
    "\n",
    "\n",
    "device = torch.device(\"cuda\" if torch.cuda.is_available() else \"cpu\")\n",
    "net = MLP().to(device)\n",
    "optimizer = torch.optim.Adam(net.parameters(), lr = learning_rate)\n",
    "criterion = nn.CrossEntropyLoss()\n",
    "for epoch in range(epochs):\n",
    "    for batch_idx, (data, target) in enumerate(train_loader):\n",
    "        data = data.view(-1,28*28)\n",
    "        data = data.to(device)\n",
    "        target = target.to(device)\n",
    "        logits = net(data)\n",
    "        loss = criterion(logits, target)\n",
    "        \n",
    "        optimizer.zero_grad()\n",
    "        loss.backward()\n",
    "        optimizer.step()\n",
    "        if batch_idx % 100 == 0:\n",
    "            print('Train Epoch: {} [{}/{} ({:.0f}%)]\\tLoss: {:.6f}'.format(\n",
    "                epoch, batch_idx * len(data), len(train_loader.dataset),\n",
    "                100. * batch_idx / len(train_loader), loss.item()))\n",
    "\n",
    "    test_loss = 0\n",
    "    correct = 0\n",
    "    for data, target in test_loader:\n",
    "        data = data.view(-1, 28 * 28)\n",
    "        data = data.to(device)\n",
    "        target = target.to(device)\n",
    "        logits = net(data)\n",
    "        test_loss += criterion(logits, target).item()\n",
    "\n",
    "        pred = logits.data.max(1)[1]\n",
    "        correct += pred.eq(target.data).sum()\n",
    "\n",
    "    test_loss /= len(test_loader.dataset)\n",
    "    print('\\nTest set: Average loss: {:.4f}, Accuracy: {}/{} ({:.0f}%)\\n'.format(\n",
    "        test_loss, correct, len(test_loader.dataset),\n",
    "        100. * correct / len(test_loader.dataset)))"
   ]
  },
  {
   "cell_type": "code",
   "execution_count": null,
   "id": "ae46dd23",
   "metadata": {},
   "outputs": [],
   "source": []
  }
 ],
 "metadata": {
  "kernelspec": {
   "display_name": "Python 3 (ipykernel)",
   "language": "python",
   "name": "python3"
  },
  "language_info": {
   "codemirror_mode": {
    "name": "ipython",
    "version": 3
   },
   "file_extension": ".py",
   "mimetype": "text/x-python",
   "name": "python",
   "nbconvert_exporter": "python",
   "pygments_lexer": "ipython3",
   "version": "3.9.12"
  }
 },
 "nbformat": 4,
 "nbformat_minor": 5
}
