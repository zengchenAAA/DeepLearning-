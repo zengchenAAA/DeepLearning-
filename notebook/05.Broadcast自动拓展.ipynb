{
 "cells": [
  {
   "cell_type": "markdown",
   "id": "ae125049",
   "metadata": {},
   "source": [
    "## broadcasting"
   ]
  },
  {
   "cell_type": "markdown",
   "id": "f29428fd",
   "metadata": {},
   "source": [
    "### expand"
   ]
  },
  {
   "cell_type": "markdown",
   "id": "2a1f3c63",
   "metadata": {},
   "source": [
    "### without copying data\n",
    "#### key idea\n",
    "##### insert i dim ahead\n",
    "##### expand dims with size 1 to same size\n",
    "##### feature maps:[4,32,14,14]\n",
    "##### bias:[32,1,1]=>[1,32,1,1]=>[4,32,14,14]"
   ]
  },
  {
   "cell_type": "code",
   "execution_count": null,
   "id": "fe46da6c",
   "metadata": {},
   "outputs": [],
   "source": []
  }
 ],
 "metadata": {
  "kernelspec": {
   "display_name": "Python 3 (ipykernel)",
   "language": "python",
   "name": "python3"
  },
  "language_info": {
   "codemirror_mode": {
    "name": "ipython",
    "version": 3
   },
   "file_extension": ".py",
   "mimetype": "text/x-python",
   "name": "python",
   "nbconvert_exporter": "python",
   "pygments_lexer": "ipython3",
   "version": "3.9.12"
  }
 },
 "nbformat": 4,
 "nbformat_minor": 5
}
