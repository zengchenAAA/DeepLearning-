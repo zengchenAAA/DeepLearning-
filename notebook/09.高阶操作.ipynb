{
 "cells": [
  {
   "cell_type": "markdown",
   "id": "66746af0",
   "metadata": {},
   "source": [
    "## tensor advanced operation"
   ]
  },
  {
   "cell_type": "markdown",
   "id": "ef357623",
   "metadata": {},
   "source": [
    "### where"
   ]
  },
  {
   "cell_type": "code",
   "execution_count": 2,
   "id": "097c243c",
   "metadata": {},
   "outputs": [],
   "source": [
    "import torch"
   ]
  },
  {
   "cell_type": "code",
   "execution_count": 4,
   "id": "45e2d7cc",
   "metadata": {},
   "outputs": [],
   "source": [
    "cond = torch.rand([2,2])"
   ]
  },
  {
   "cell_type": "code",
   "execution_count": 5,
   "id": "a07a7d03",
   "metadata": {},
   "outputs": [
    {
     "data": {
      "text/plain": [
       "tensor([[0.7635, 0.4552],\n",
       "        [0.0142, 0.1702]])"
      ]
     },
     "execution_count": 5,
     "metadata": {},
     "output_type": "execute_result"
    }
   ],
   "source": [
    "cond"
   ]
  },
  {
   "cell_type": "code",
   "execution_count": 8,
   "id": "0db43f1a",
   "metadata": {},
   "outputs": [],
   "source": [
    "a = torch.zeros(2,2)"
   ]
  },
  {
   "cell_type": "code",
   "execution_count": 9,
   "id": "c17bb9e7",
   "metadata": {},
   "outputs": [
    {
     "data": {
      "text/plain": [
       "tensor([[0., 0.],\n",
       "        [0., 0.]])"
      ]
     },
     "execution_count": 9,
     "metadata": {},
     "output_type": "execute_result"
    }
   ],
   "source": [
    "a"
   ]
  },
  {
   "cell_type": "code",
   "execution_count": 10,
   "id": "9879ea38",
   "metadata": {},
   "outputs": [],
   "source": [
    "b = torch.ones(2,2)"
   ]
  },
  {
   "cell_type": "code",
   "execution_count": 11,
   "id": "41c5a6e1",
   "metadata": {},
   "outputs": [
    {
     "data": {
      "text/plain": [
       "tensor([[1., 1.],\n",
       "        [1., 1.]])"
      ]
     },
     "execution_count": 11,
     "metadata": {},
     "output_type": "execute_result"
    }
   ],
   "source": [
    "b"
   ]
  },
  {
   "cell_type": "code",
   "execution_count": 12,
   "id": "b096257f",
   "metadata": {},
   "outputs": [
    {
     "data": {
      "text/plain": [
       "tensor([[0., 1.],\n",
       "        [1., 1.]])"
      ]
     },
     "execution_count": 12,
     "metadata": {},
     "output_type": "execute_result"
    }
   ],
   "source": [
    "torch.where(cond>0.5,a,b)"
   ]
  },
  {
   "cell_type": "markdown",
   "id": "e6685684",
   "metadata": {},
   "source": [
    "### gather"
   ]
  },
  {
   "cell_type": "code",
   "execution_count": 21,
   "id": "5a04844b",
   "metadata": {},
   "outputs": [],
   "source": [
    "prob = torch.randn(4,10)"
   ]
  },
  {
   "cell_type": "code",
   "execution_count": 22,
   "id": "1303b900",
   "metadata": {},
   "outputs": [],
   "source": [
    "idx = prob.topk(dim=1,k=3)"
   ]
  },
  {
   "cell_type": "code",
   "execution_count": 23,
   "id": "344bffa7",
   "metadata": {},
   "outputs": [
    {
     "data": {
      "text/plain": [
       "torch.return_types.topk(\n",
       "values=tensor([[1.9161, 1.2671, 1.2113],\n",
       "        [1.0324, 0.4335, 0.0486],\n",
       "        [0.8937, 0.6017, 0.5484],\n",
       "        [2.0013, 0.8504, 0.7302]]),\n",
       "indices=tensor([[4, 1, 7],\n",
       "        [1, 5, 2],\n",
       "        [2, 6, 4],\n",
       "        [0, 1, 6]]))"
      ]
     },
     "execution_count": 23,
     "metadata": {},
     "output_type": "execute_result"
    }
   ],
   "source": [
    "idx"
   ]
  },
  {
   "cell_type": "code",
   "execution_count": 24,
   "id": "0385404f",
   "metadata": {},
   "outputs": [],
   "source": [
    "idx = idx[1]"
   ]
  },
  {
   "cell_type": "code",
   "execution_count": 25,
   "id": "38c4cd21",
   "metadata": {},
   "outputs": [
    {
     "data": {
      "text/plain": [
       "tensor([[4, 1, 7],\n",
       "        [1, 5, 2],\n",
       "        [2, 6, 4],\n",
       "        [0, 1, 6]])"
      ]
     },
     "execution_count": 25,
     "metadata": {},
     "output_type": "execute_result"
    }
   ],
   "source": [
    "idx"
   ]
  },
  {
   "cell_type": "code",
   "execution_count": 26,
   "id": "3e7fcfd0",
   "metadata": {},
   "outputs": [],
   "source": [
    "label = torch.arange(10)+100"
   ]
  },
  {
   "cell_type": "code",
   "execution_count": 27,
   "id": "3a71da38",
   "metadata": {},
   "outputs": [
    {
     "data": {
      "text/plain": [
       "tensor([100, 101, 102, 103, 104, 105, 106, 107, 108, 109])"
      ]
     },
     "execution_count": 27,
     "metadata": {},
     "output_type": "execute_result"
    }
   ],
   "source": [
    "label"
   ]
  },
  {
   "cell_type": "code",
   "execution_count": 28,
   "id": "6a5c5cab",
   "metadata": {},
   "outputs": [
    {
     "data": {
      "text/plain": [
       "tensor([[104, 101, 107],\n",
       "        [101, 105, 102],\n",
       "        [102, 106, 104],\n",
       "        [100, 101, 106]])"
      ]
     },
     "execution_count": 28,
     "metadata": {},
     "output_type": "execute_result"
    }
   ],
   "source": [
    "torch.gather(label.expand(4,10),dim=1,index=idx.long())"
   ]
  },
  {
   "cell_type": "code",
   "execution_count": null,
   "id": "2dc42df0",
   "metadata": {},
   "outputs": [],
   "source": []
  }
 ],
 "metadata": {
  "kernelspec": {
   "display_name": "Python 3 (ipykernel)",
   "language": "python",
   "name": "python3"
  },
  "language_info": {
   "codemirror_mode": {
    "name": "ipython",
    "version": 3
   },
   "file_extension": ".py",
   "mimetype": "text/x-python",
   "name": "python",
   "nbconvert_exporter": "python",
   "pygments_lexer": "ipython3",
   "version": "3.9.12"
  }
 },
 "nbformat": 4,
 "nbformat_minor": 5
}
