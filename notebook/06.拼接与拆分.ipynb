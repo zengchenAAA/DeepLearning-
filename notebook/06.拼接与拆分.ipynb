{
 "cells": [
  {
   "cell_type": "code",
   "execution_count": 2,
   "id": "e7719784",
   "metadata": {},
   "outputs": [],
   "source": [
    "import torch"
   ]
  },
  {
   "cell_type": "markdown",
   "id": "d6163a29",
   "metadata": {},
   "source": [
    "## merge or split"
   ]
  },
  {
   "cell_type": "markdown",
   "id": "146ecbac",
   "metadata": {},
   "source": [
    "### cat"
   ]
  },
  {
   "cell_type": "code",
   "execution_count": 3,
   "id": "f6959684",
   "metadata": {},
   "outputs": [],
   "source": [
    "a = torch.rand(4,32,8)"
   ]
  },
  {
   "cell_type": "code",
   "execution_count": 4,
   "id": "3a3c3954",
   "metadata": {},
   "outputs": [],
   "source": [
    "b = torch.rand(5,32,8)"
   ]
  },
  {
   "cell_type": "code",
   "execution_count": 5,
   "id": "b4cfb2be",
   "metadata": {},
   "outputs": [
    {
     "data": {
      "text/plain": [
       "torch.Size([9, 32, 8])"
      ]
     },
     "execution_count": 5,
     "metadata": {},
     "output_type": "execute_result"
    }
   ],
   "source": [
    "torch.cat([a,b],dim=0).shape  #将维度为0的相加"
   ]
  },
  {
   "cell_type": "markdown",
   "id": "6edde3d9",
   "metadata": {},
   "source": [
    "### for example"
   ]
  },
  {
   "cell_type": "code",
   "execution_count": 6,
   "id": "3134956b",
   "metadata": {},
   "outputs": [],
   "source": [
    "a1 = torch.rand(4,3,32,32)"
   ]
  },
  {
   "cell_type": "code",
   "execution_count": 7,
   "id": "f9120eaa",
   "metadata": {},
   "outputs": [],
   "source": [
    "a2 = torch.rand(5,3,32,32)"
   ]
  },
  {
   "cell_type": "code",
   "execution_count": 8,
   "id": "3f09e2b1",
   "metadata": {},
   "outputs": [
    {
     "data": {
      "text/plain": [
       "torch.Size([9, 3, 32, 32])"
      ]
     },
     "execution_count": 8,
     "metadata": {},
     "output_type": "execute_result"
    }
   ],
   "source": [
    "torch.cat([a1,a2],dim=0).shape"
   ]
  },
  {
   "cell_type": "code",
   "execution_count": 9,
   "id": "6afdd313",
   "metadata": {},
   "outputs": [],
   "source": [
    "a2 = torch.rand(4,1,32,32)"
   ]
  },
  {
   "cell_type": "code",
   "execution_count": 10,
   "id": "cc91658a",
   "metadata": {},
   "outputs": [
    {
     "ename": "RuntimeError",
     "evalue": "Sizes of tensors must match except in dimension 0. Got 3 and 1 in dimension 1 (The offending index is 1)",
     "output_type": "error",
     "traceback": [
      "\u001b[1;31m---------------------------------------------------------------------------\u001b[0m",
      "\u001b[1;31mRuntimeError\u001b[0m                              Traceback (most recent call last)",
      "Input \u001b[1;32mIn [10]\u001b[0m, in \u001b[0;36m<cell line: 1>\u001b[1;34m()\u001b[0m\n\u001b[1;32m----> 1\u001b[0m \u001b[43mtorch\u001b[49m\u001b[38;5;241;43m.\u001b[39;49m\u001b[43mcat\u001b[49m\u001b[43m(\u001b[49m\u001b[43m[\u001b[49m\u001b[43ma1\u001b[49m\u001b[43m,\u001b[49m\u001b[43ma2\u001b[49m\u001b[43m]\u001b[49m\u001b[43m,\u001b[49m\u001b[43mdim\u001b[49m\u001b[38;5;241;43m=\u001b[39;49m\u001b[38;5;241;43m0\u001b[39;49m\u001b[43m)\u001b[49m\u001b[38;5;241m.\u001b[39mshape\n",
      "\u001b[1;31mRuntimeError\u001b[0m: Sizes of tensors must match except in dimension 0. Got 3 and 1 in dimension 1 (The offending index is 1)"
     ]
    }
   ],
   "source": [
    "torch.cat([a1,a2],dim=0).shape  #由于维度1的位置两个数不相同，无法拼接"
   ]
  },
  {
   "cell_type": "code",
   "execution_count": 11,
   "id": "973d12ee",
   "metadata": {},
   "outputs": [
    {
     "data": {
      "text/plain": [
       "torch.Size([4, 4, 32, 32])"
      ]
     },
     "execution_count": 11,
     "metadata": {},
     "output_type": "execute_result"
    }
   ],
   "source": [
    "torch.cat([a1,a2],dim=1).shape"
   ]
  },
  {
   "cell_type": "code",
   "execution_count": 12,
   "id": "924292c4",
   "metadata": {},
   "outputs": [],
   "source": [
    "a1 = torch.rand(4,3,16,32)"
   ]
  },
  {
   "cell_type": "code",
   "execution_count": 17,
   "id": "c9664b72",
   "metadata": {},
   "outputs": [],
   "source": [
    "a2 = torch.rand(4,3,16,32)"
   ]
  },
  {
   "cell_type": "code",
   "execution_count": 18,
   "id": "0b9a18be",
   "metadata": {},
   "outputs": [
    {
     "data": {
      "text/plain": [
       "torch.Size([4, 3, 32, 32])"
      ]
     },
     "execution_count": 18,
     "metadata": {},
     "output_type": "execute_result"
    }
   ],
   "source": [
    "torch.cat([a1,a2],dim=2).shape"
   ]
  },
  {
   "cell_type": "markdown",
   "id": "3caa953b",
   "metadata": {},
   "source": [
    "### stack\n",
    "stack重新创建一个维度放在合并的两个维度前面"
   ]
  },
  {
   "cell_type": "code",
   "execution_count": 19,
   "id": "1644d3a5",
   "metadata": {},
   "outputs": [
    {
     "data": {
      "text/plain": [
       "torch.Size([4, 3, 32, 32])"
      ]
     },
     "execution_count": 19,
     "metadata": {},
     "output_type": "execute_result"
    }
   ],
   "source": [
    "torch.cat([a1,a2],dim=2).shape"
   ]
  },
  {
   "cell_type": "code",
   "execution_count": 20,
   "id": "86458d80",
   "metadata": {},
   "outputs": [
    {
     "data": {
      "text/plain": [
       "torch.Size([4, 3, 2, 16, 32])"
      ]
     },
     "execution_count": 20,
     "metadata": {},
     "output_type": "execute_result"
    }
   ],
   "source": [
    "torch.stack([a1,a2],dim=2).shape"
   ]
  },
  {
   "cell_type": "code",
   "execution_count": 21,
   "id": "ef8e87b8",
   "metadata": {},
   "outputs": [],
   "source": [
    "a =torch.rand(32,8)"
   ]
  },
  {
   "cell_type": "code",
   "execution_count": 22,
   "id": "83aca0bc",
   "metadata": {},
   "outputs": [],
   "source": [
    "b = torch.rand(32,8)"
   ]
  },
  {
   "cell_type": "code",
   "execution_count": 23,
   "id": "249878f0",
   "metadata": {},
   "outputs": [
    {
     "data": {
      "text/plain": [
       "torch.Size([2, 32, 8])"
      ]
     },
     "execution_count": 23,
     "metadata": {},
     "output_type": "execute_result"
    }
   ],
   "source": [
    "torch.stack([a,b],dim=0).shape"
   ]
  },
  {
   "cell_type": "markdown",
   "id": "c66c0b70",
   "metadata": {},
   "source": [
    "### split: by len"
   ]
  },
  {
   "cell_type": "code",
   "execution_count": 24,
   "id": "2e18f63f",
   "metadata": {},
   "outputs": [],
   "source": [
    "b = torch.rand(32,8)"
   ]
  },
  {
   "cell_type": "code",
   "execution_count": 25,
   "id": "4005dbd1",
   "metadata": {},
   "outputs": [
    {
     "data": {
      "text/plain": [
       "torch.Size([32, 8])"
      ]
     },
     "execution_count": 25,
     "metadata": {},
     "output_type": "execute_result"
    }
   ],
   "source": [
    "a.shape"
   ]
  },
  {
   "cell_type": "code",
   "execution_count": 26,
   "id": "3deecfea",
   "metadata": {},
   "outputs": [],
   "source": [
    "c = torch.stack([a,b],dim = 0)"
   ]
  },
  {
   "cell_type": "code",
   "execution_count": 27,
   "id": "72e2c918",
   "metadata": {},
   "outputs": [
    {
     "data": {
      "text/plain": [
       "torch.Size([2, 32, 8])"
      ]
     },
     "execution_count": 27,
     "metadata": {},
     "output_type": "execute_result"
    }
   ],
   "source": [
    "c.size()"
   ]
  },
  {
   "cell_type": "code",
   "execution_count": 28,
   "id": "f8ed61bd",
   "metadata": {},
   "outputs": [],
   "source": [
    "aa,bb = c.split([1,1],dim=0) #[1,1]表示切两份，每份1个"
   ]
  },
  {
   "cell_type": "code",
   "execution_count": 29,
   "id": "1720656a",
   "metadata": {},
   "outputs": [
    {
     "data": {
      "text/plain": [
       "(torch.Size([1, 32, 8]), torch.Size([1, 32, 8]))"
      ]
     },
     "execution_count": 29,
     "metadata": {},
     "output_type": "execute_result"
    }
   ],
   "source": [
    "aa.shape,bb.shape"
   ]
  },
  {
   "cell_type": "code",
   "execution_count": 30,
   "id": "467a7924",
   "metadata": {},
   "outputs": [],
   "source": [
    "aa,bb = c.split([30,2],dim =1)"
   ]
  },
  {
   "cell_type": "code",
   "execution_count": 31,
   "id": "d20e549b",
   "metadata": {},
   "outputs": [
    {
     "data": {
      "text/plain": [
       "(torch.Size([2, 30, 8]), torch.Size([2, 2, 8]))"
      ]
     },
     "execution_count": 31,
     "metadata": {},
     "output_type": "execute_result"
    }
   ],
   "source": [
    "aa.shape,bb.shape"
   ]
  },
  {
   "cell_type": "markdown",
   "id": "47f9aaf5",
   "metadata": {},
   "source": [
    "### chunk:by num"
   ]
  },
  {
   "cell_type": "code",
   "execution_count": 32,
   "id": "b369209e",
   "metadata": {},
   "outputs": [],
   "source": [
    "b = torch.rand(32,8)"
   ]
  },
  {
   "cell_type": "code",
   "execution_count": 33,
   "id": "6f7d1a98",
   "metadata": {},
   "outputs": [
    {
     "data": {
      "text/plain": [
       "torch.Size([32, 8])"
      ]
     },
     "execution_count": 33,
     "metadata": {},
     "output_type": "execute_result"
    }
   ],
   "source": [
    "a.shape"
   ]
  },
  {
   "cell_type": "code",
   "execution_count": 34,
   "id": "b7e31a9d",
   "metadata": {},
   "outputs": [],
   "source": [
    "c = torch.stack([a,b],dim=0)"
   ]
  },
  {
   "cell_type": "code",
   "execution_count": 35,
   "id": "789cd945",
   "metadata": {},
   "outputs": [
    {
     "data": {
      "text/plain": [
       "torch.Size([2, 32, 8])"
      ]
     },
     "execution_count": 35,
     "metadata": {},
     "output_type": "execute_result"
    }
   ],
   "source": [
    "c.shape"
   ]
  },
  {
   "cell_type": "code",
   "execution_count": 36,
   "id": "0e9848e2",
   "metadata": {},
   "outputs": [],
   "source": [
    "aa,bb = c.chunk(2,dim=0)   #其中2表示把维度为0的里面等分成2份"
   ]
  },
  {
   "cell_type": "code",
   "execution_count": 37,
   "id": "32765a60",
   "metadata": {},
   "outputs": [
    {
     "data": {
      "text/plain": [
       "(torch.Size([1, 32, 8]), torch.Size([1, 32, 8]))"
      ]
     },
     "execution_count": 37,
     "metadata": {},
     "output_type": "execute_result"
    }
   ],
   "source": [
    "aa.shape,bb.shape"
   ]
  },
  {
   "cell_type": "code",
   "execution_count": null,
   "id": "da48d6aa",
   "metadata": {},
   "outputs": [],
   "source": []
  }
 ],
 "metadata": {
  "kernelspec": {
   "display_name": "Python 3 (ipykernel)",
   "language": "python",
   "name": "python3"
  },
  "language_info": {
   "codemirror_mode": {
    "name": "ipython",
    "version": 3
   },
   "file_extension": ".py",
   "mimetype": "text/x-python",
   "name": "python",
   "nbconvert_exporter": "python",
   "pygments_lexer": "ipython3",
   "version": "3.9.12"
  }
 },
 "nbformat": 4,
 "nbformat_minor": 5
}
