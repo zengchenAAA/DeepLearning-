{
 "cells": [
  {
   "cell_type": "markdown",
   "id": "3c526290",
   "metadata": {},
   "source": [
    "###  基本数据类型"
   ]
  },
  {
   "cell_type": "markdown",
   "id": "310cbac7",
   "metadata": {},
   "source": [
    "IntTensor of size()"
   ]
  },
  {
   "cell_type": "markdown",
   "id": "0f757866",
   "metadata": {},
   "source": [
    "FloatTensor of size()"
   ]
  },
  {
   "cell_type": "markdown",
   "id": "8a0eeb53",
   "metadata": {},
   "source": [
    "IntTensor of size[d1,d2,...]"
   ]
  },
  {
   "cell_type": "markdown",
   "id": "8dfb6d08",
   "metadata": {},
   "source": [
    "FloatTensor of size[d1,d2,...]"
   ]
  },
  {
   "cell_type": "markdown",
   "id": "ee06eb5f",
   "metadata": {},
   "source": [
    "注：pytorch没有string类型"
   ]
  },
  {
   "cell_type": "markdown",
   "id": "8554673a",
   "metadata": {},
   "source": [
    "###  类型检查"
   ]
  },
  {
   "cell_type": "code",
   "execution_count": 32,
   "id": "0097b82f",
   "metadata": {},
   "outputs": [],
   "source": [
    "import torch\n",
    "import numpy as np"
   ]
  },
  {
   "cell_type": "code",
   "execution_count": 3,
   "id": "99172518",
   "metadata": {},
   "outputs": [],
   "source": [
    "a = torch.randn(2,3)"
   ]
  },
  {
   "cell_type": "code",
   "execution_count": 4,
   "id": "fd325097",
   "metadata": {},
   "outputs": [
    {
     "data": {
      "text/plain": [
       "'torch.FloatTensor'"
      ]
     },
     "execution_count": 4,
     "metadata": {},
     "output_type": "execute_result"
    }
   ],
   "source": [
    "a.type()"
   ]
  },
  {
   "cell_type": "code",
   "execution_count": 5,
   "id": "158d37cc",
   "metadata": {},
   "outputs": [
    {
     "data": {
      "text/plain": [
       "torch.Tensor"
      ]
     },
     "execution_count": 5,
     "metadata": {},
     "output_type": "execute_result"
    }
   ],
   "source": [
    "type(a)"
   ]
  },
  {
   "cell_type": "code",
   "execution_count": 6,
   "id": "18719fa8",
   "metadata": {},
   "outputs": [
    {
     "data": {
      "text/plain": [
       "True"
      ]
     },
     "execution_count": 6,
     "metadata": {},
     "output_type": "execute_result"
    }
   ],
   "source": [
    "isinstance(a,torch.FloatTensor)"
   ]
  },
  {
   "cell_type": "code",
   "execution_count": 8,
   "id": "3e004d9d",
   "metadata": {},
   "outputs": [
    {
     "data": {
      "text/plain": [
       "False"
      ]
     },
     "execution_count": 8,
     "metadata": {},
     "output_type": "execute_result"
    }
   ],
   "source": [
    "isinstance(a,torch.cuda.DoubleTensor)"
   ]
  },
  {
   "cell_type": "code",
   "execution_count": 11,
   "id": "d81792bd",
   "metadata": {},
   "outputs": [],
   "source": [
    "a = a.cuda()"
   ]
  },
  {
   "cell_type": "code",
   "execution_count": 12,
   "id": "8baa44de",
   "metadata": {},
   "outputs": [
    {
     "data": {
      "text/plain": [
       "'torch.cuda.FloatTensor'"
      ]
     },
     "execution_count": 12,
     "metadata": {},
     "output_type": "execute_result"
    }
   ],
   "source": [
    "a.type()"
   ]
  },
  {
   "cell_type": "code",
   "execution_count": 13,
   "id": "485ca147",
   "metadata": {},
   "outputs": [
    {
     "data": {
      "text/plain": [
       "True"
      ]
     },
     "execution_count": 13,
     "metadata": {},
     "output_type": "execute_result"
    }
   ],
   "source": [
    "isinstance(a,torch.cuda.FloatTensor)"
   ]
  },
  {
   "cell_type": "markdown",
   "id": "4108a25c",
   "metadata": {},
   "source": [
    "###   维度的查看"
   ]
  },
  {
   "cell_type": "markdown",
   "id": "e9b5216d",
   "metadata": {},
   "source": [
    "#### Dimension 0 /rank 0"
   ]
  },
  {
   "cell_type": "code",
   "execution_count": 15,
   "id": "bbbbca70",
   "metadata": {},
   "outputs": [
    {
     "data": {
      "text/plain": [
       "tensor(1.)"
      ]
     },
     "execution_count": 15,
     "metadata": {},
     "output_type": "execute_result"
    }
   ],
   "source": [
    "torch.tensor(1.)"
   ]
  },
  {
   "cell_type": "code",
   "execution_count": 16,
   "id": "eb13cda9",
   "metadata": {},
   "outputs": [
    {
     "data": {
      "text/plain": [
       "tensor(1.3000)"
      ]
     },
     "execution_count": 16,
     "metadata": {},
     "output_type": "execute_result"
    }
   ],
   "source": [
    "torch.tensor(1.3)"
   ]
  },
  {
   "cell_type": "code",
   "execution_count": 17,
   "id": "2118fc80",
   "metadata": {},
   "outputs": [],
   "source": [
    "a = torch.tensor(2.2)"
   ]
  },
  {
   "cell_type": "code",
   "execution_count": 21,
   "id": "9e4f599f",
   "metadata": {},
   "outputs": [
    {
     "data": {
      "text/plain": [
       "torch.Size([])"
      ]
     },
     "execution_count": 21,
     "metadata": {},
     "output_type": "execute_result"
    }
   ],
   "source": [
    "a.shape"
   ]
  },
  {
   "cell_type": "code",
   "execution_count": 22,
   "id": "ef6d2edb",
   "metadata": {},
   "outputs": [
    {
     "data": {
      "text/plain": [
       "0"
      ]
     },
     "execution_count": 22,
     "metadata": {},
     "output_type": "execute_result"
    }
   ],
   "source": [
    "len(a.shape)"
   ]
  },
  {
   "cell_type": "code",
   "execution_count": 23,
   "id": "7e084310",
   "metadata": {},
   "outputs": [
    {
     "data": {
      "text/plain": [
       "torch.Size([])"
      ]
     },
     "execution_count": 23,
     "metadata": {},
     "output_type": "execute_result"
    }
   ],
   "source": [
    "a.size()"
   ]
  },
  {
   "cell_type": "markdown",
   "id": "997cc324",
   "metadata": {},
   "source": [
    "#### Dim1/rank1"
   ]
  },
  {
   "cell_type": "code",
   "execution_count": 24,
   "id": "33414a48",
   "metadata": {},
   "outputs": [
    {
     "data": {
      "text/plain": [
       "tensor([1.1000])"
      ]
     },
     "execution_count": 24,
     "metadata": {},
     "output_type": "execute_result"
    }
   ],
   "source": [
    "torch.tensor([1.1])"
   ]
  },
  {
   "cell_type": "code",
   "execution_count": 25,
   "id": "a1e3709f",
   "metadata": {},
   "outputs": [
    {
     "data": {
      "text/plain": [
       "tensor([1.1000, 2.2000])"
      ]
     },
     "execution_count": 25,
     "metadata": {},
     "output_type": "execute_result"
    }
   ],
   "source": [
    "torch.tensor([1.1,2.2])"
   ]
  },
  {
   "cell_type": "code",
   "execution_count": 29,
   "id": "c5bafc7b",
   "metadata": {},
   "outputs": [
    {
     "data": {
      "text/plain": [
       "tensor([1.4013e-45])"
      ]
     },
     "execution_count": 29,
     "metadata": {},
     "output_type": "execute_result"
    }
   ],
   "source": [
    "torch.FloatTensor(1)  #和torch.Tensor()方法一样 且里面的数值为随机数"
   ]
  },
  {
   "cell_type": "code",
   "execution_count": 30,
   "id": "de10d181",
   "metadata": {},
   "outputs": [
    {
     "data": {
      "text/plain": [
       "tensor([0.0000e+00, 4.5907e-41])"
      ]
     },
     "execution_count": 30,
     "metadata": {},
     "output_type": "execute_result"
    }
   ],
   "source": [
    "torch.FloatTensor(2)  #如果参数只是数字m，则生成相应m个对应维度的张量"
   ]
  },
  {
   "cell_type": "code",
   "execution_count": 31,
   "id": "86639706",
   "metadata": {},
   "outputs": [
    {
     "data": {
      "text/plain": [
       "tensor([[7.5556e+28, 5.2839e-11, 2.7604e+20],\n",
       "        [1.7744e+28, 1.3458e-14, 3.9784e-14]])"
      ]
     },
     "execution_count": 31,
     "metadata": {},
     "output_type": "execute_result"
    }
   ],
   "source": [
    "torch.FloatTensor(2,3)"
   ]
  },
  {
   "cell_type": "code",
   "execution_count": 33,
   "id": "23874eda",
   "metadata": {},
   "outputs": [],
   "source": [
    "data = np.ones(2)"
   ]
  },
  {
   "cell_type": "code",
   "execution_count": 34,
   "id": "e9418faa",
   "metadata": {},
   "outputs": [
    {
     "data": {
      "text/plain": [
       "array([1., 1.])"
      ]
     },
     "execution_count": 34,
     "metadata": {},
     "output_type": "execute_result"
    }
   ],
   "source": [
    "data"
   ]
  },
  {
   "cell_type": "code",
   "execution_count": 36,
   "id": "ff958c98",
   "metadata": {},
   "outputs": [
    {
     "data": {
      "text/plain": [
       "tensor([1., 1.], dtype=torch.float64)"
      ]
     },
     "execution_count": 36,
     "metadata": {},
     "output_type": "execute_result"
    }
   ],
   "source": [
    "torch.from_numpy(data)  #从numpy的array类型转成torch类型"
   ]
  },
  {
   "cell_type": "code",
   "execution_count": 37,
   "id": "7ae7d300",
   "metadata": {},
   "outputs": [],
   "source": [
    "a = torch.ones(2)"
   ]
  },
  {
   "cell_type": "code",
   "execution_count": 38,
   "id": "1a30b814",
   "metadata": {},
   "outputs": [
    {
     "data": {
      "text/plain": [
       "torch.Size([2])"
      ]
     },
     "execution_count": 38,
     "metadata": {},
     "output_type": "execute_result"
    }
   ],
   "source": [
    "a.size()"
   ]
  },
  {
   "cell_type": "markdown",
   "id": "afcad477",
   "metadata": {},
   "source": [
    "#### Dim 2"
   ]
  },
  {
   "cell_type": "code",
   "execution_count": 39,
   "id": "134e3891",
   "metadata": {},
   "outputs": [],
   "source": [
    "a = torch.randn(2,3)"
   ]
  },
  {
   "cell_type": "code",
   "execution_count": 40,
   "id": "05d4945f",
   "metadata": {},
   "outputs": [
    {
     "data": {
      "text/plain": [
       "tensor([[ 0.8081,  0.8148,  0.3431],\n",
       "        [-0.1884, -0.4039, -0.3901]])"
      ]
     },
     "execution_count": 40,
     "metadata": {},
     "output_type": "execute_result"
    }
   ],
   "source": [
    "a"
   ]
  },
  {
   "cell_type": "code",
   "execution_count": 41,
   "id": "e150ae87",
   "metadata": {},
   "outputs": [
    {
     "data": {
      "text/plain": [
       "torch.Size([2, 3])"
      ]
     },
     "execution_count": 41,
     "metadata": {},
     "output_type": "execute_result"
    }
   ],
   "source": [
    "a.shape"
   ]
  },
  {
   "cell_type": "code",
   "execution_count": 42,
   "id": "8d5fbd34",
   "metadata": {},
   "outputs": [
    {
     "data": {
      "text/plain": [
       "torch.Size([2, 3])"
      ]
     },
     "execution_count": 42,
     "metadata": {},
     "output_type": "execute_result"
    }
   ],
   "source": [
    "a.size()"
   ]
  },
  {
   "cell_type": "code",
   "execution_count": 43,
   "id": "3d9f9837",
   "metadata": {},
   "outputs": [
    {
     "data": {
      "text/plain": [
       "2"
      ]
     },
     "execution_count": 43,
     "metadata": {},
     "output_type": "execute_result"
    }
   ],
   "source": [
    "a.size(0)"
   ]
  },
  {
   "cell_type": "code",
   "execution_count": 44,
   "id": "2639d07d",
   "metadata": {},
   "outputs": [
    {
     "data": {
      "text/plain": [
       "3"
      ]
     },
     "execution_count": 44,
     "metadata": {},
     "output_type": "execute_result"
    }
   ],
   "source": [
    "a.size(1)"
   ]
  },
  {
   "cell_type": "code",
   "execution_count": 46,
   "id": "31e41923",
   "metadata": {},
   "outputs": [
    {
     "data": {
      "text/plain": [
       "3"
      ]
     },
     "execution_count": 46,
     "metadata": {},
     "output_type": "execute_result"
    }
   ],
   "source": [
    "a.shape[1]"
   ]
  },
  {
   "cell_type": "markdown",
   "id": "83342afa",
   "metadata": {},
   "source": [
    "#### Dim 3"
   ]
  },
  {
   "cell_type": "code",
   "execution_count": 47,
   "id": "4a7d4909",
   "metadata": {},
   "outputs": [],
   "source": [
    "a = torch.rand(1,2,3)"
   ]
  },
  {
   "cell_type": "code",
   "execution_count": 48,
   "id": "69b377aa",
   "metadata": {},
   "outputs": [
    {
     "data": {
      "text/plain": [
       "tensor([[[0.1448, 0.1061, 0.5538],\n",
       "         [0.1226, 0.8201, 0.0616]]])"
      ]
     },
     "execution_count": 48,
     "metadata": {},
     "output_type": "execute_result"
    }
   ],
   "source": [
    "a"
   ]
  },
  {
   "cell_type": "code",
   "execution_count": 49,
   "id": "e123e3c1",
   "metadata": {},
   "outputs": [
    {
     "data": {
      "text/plain": [
       "torch.Size([1, 2, 3])"
      ]
     },
     "execution_count": 49,
     "metadata": {},
     "output_type": "execute_result"
    }
   ],
   "source": [
    "a.size()"
   ]
  },
  {
   "cell_type": "code",
   "execution_count": 51,
   "id": "150058ca",
   "metadata": {},
   "outputs": [
    {
     "data": {
      "text/plain": [
       "tensor([[0.1448, 0.1061, 0.5538],\n",
       "        [0.1226, 0.8201, 0.0616]])"
      ]
     },
     "execution_count": 51,
     "metadata": {},
     "output_type": "execute_result"
    }
   ],
   "source": [
    "a[0]    #对于维度在0的内容进行查看"
   ]
  },
  {
   "cell_type": "code",
   "execution_count": 53,
   "id": "ac4702d0",
   "metadata": {},
   "outputs": [
    {
     "data": {
      "text/plain": [
       "[1, 2, 3]"
      ]
     },
     "execution_count": 53,
     "metadata": {},
     "output_type": "execute_result"
    }
   ],
   "source": [
    "list(a.shape)"
   ]
  },
  {
   "cell_type": "markdown",
   "id": "cbc764ea",
   "metadata": {},
   "source": [
    "#### Dim 4"
   ]
  },
  {
   "cell_type": "code",
   "execution_count": 55,
   "id": "e7b77c0c",
   "metadata": {},
   "outputs": [],
   "source": [
    "a = torch.rand(2,3,28,28)"
   ]
  },
  {
   "cell_type": "code",
   "execution_count": 56,
   "id": "557e6f90",
   "metadata": {},
   "outputs": [
    {
     "data": {
      "text/plain": [
       "tensor([[[[0.3913, 0.7702, 0.7816,  ..., 0.4772, 0.5025, 0.6550],\n",
       "          [0.8315, 0.9157, 0.9510,  ..., 0.9516, 0.3022, 0.5360],\n",
       "          [0.7193, 0.0058, 0.2895,  ..., 0.2745, 0.8906, 0.1958],\n",
       "          ...,\n",
       "          [0.9767, 0.8712, 0.0094,  ..., 0.0743, 0.4029, 0.5524],\n",
       "          [0.4496, 0.0614, 0.4702,  ..., 0.5747, 0.1962, 0.8715],\n",
       "          [0.4448, 0.1035, 0.8796,  ..., 0.5205, 0.0418, 0.1537]],\n",
       "\n",
       "         [[0.9692, 0.9610, 0.6815,  ..., 0.4274, 0.7677, 0.2618],\n",
       "          [0.0608, 0.4698, 0.2328,  ..., 0.1326, 0.8146, 0.9929],\n",
       "          [0.3475, 0.3848, 0.7697,  ..., 0.5878, 0.2994, 0.5917],\n",
       "          ...,\n",
       "          [0.0326, 0.0643, 0.7336,  ..., 0.3025, 0.6561, 0.6491],\n",
       "          [0.5550, 0.7777, 0.5657,  ..., 0.7999, 0.9725, 0.0436],\n",
       "          [0.0938, 0.1510, 0.3624,  ..., 0.6918, 0.3078, 0.9731]],\n",
       "\n",
       "         [[0.8761, 0.4312, 0.6222,  ..., 0.3384, 0.7604, 0.4819],\n",
       "          [0.3304, 0.6841, 0.5480,  ..., 0.4360, 0.9986, 0.9119],\n",
       "          [0.4624, 0.7680, 0.1213,  ..., 0.7204, 0.2509, 0.0232],\n",
       "          ...,\n",
       "          [0.7340, 0.6800, 0.9029,  ..., 0.4198, 0.5923, 0.9072],\n",
       "          [0.6718, 0.3059, 0.8668,  ..., 0.7717, 0.9479, 0.7487],\n",
       "          [0.4227, 0.4599, 0.4333,  ..., 0.6084, 0.2591, 0.4302]]],\n",
       "\n",
       "\n",
       "        [[[0.6808, 0.8535, 0.4085,  ..., 0.4212, 0.2187, 0.2337],\n",
       "          [0.3501, 0.5102, 0.3287,  ..., 0.6244, 0.3108, 0.6987],\n",
       "          [0.9534, 0.2472, 0.7987,  ..., 0.7458, 0.6849, 0.7539],\n",
       "          ...,\n",
       "          [0.1526, 0.2750, 0.9591,  ..., 0.3908, 0.5794, 0.5313],\n",
       "          [0.5465, 0.1075, 0.8796,  ..., 0.2334, 0.7350, 0.4181],\n",
       "          [0.0602, 0.5828, 0.3998,  ..., 0.1048, 0.6750, 0.1441]],\n",
       "\n",
       "         [[0.4305, 0.3499, 0.2139,  ..., 0.4410, 0.2159, 0.7904],\n",
       "          [0.8081, 0.6009, 0.6632,  ..., 0.5769, 0.0333, 0.0407],\n",
       "          [0.4279, 0.7622, 0.3665,  ..., 0.7410, 0.7375, 0.0666],\n",
       "          ...,\n",
       "          [0.9112, 0.4272, 0.4975,  ..., 0.7205, 0.3491, 0.1623],\n",
       "          [0.7297, 0.5670, 0.1270,  ..., 0.8069, 0.0439, 0.3607],\n",
       "          [0.6142, 0.7763, 0.3840,  ..., 0.7072, 0.0743, 0.7950]],\n",
       "\n",
       "         [[0.8639, 0.5301, 0.6291,  ..., 0.2432, 0.6630, 0.5887],\n",
       "          [0.5198, 0.1827, 0.5859,  ..., 0.6340, 0.2816, 0.8580],\n",
       "          [0.2481, 0.2803, 0.3605,  ..., 0.2330, 0.1276, 0.8723],\n",
       "          ...,\n",
       "          [0.7500, 0.5617, 0.6893,  ..., 0.0459, 0.3724, 0.8108],\n",
       "          [0.1606, 0.8044, 0.4648,  ..., 0.7019, 0.1690, 0.4781],\n",
       "          [0.8279, 0.2408, 0.2170,  ..., 0.6229, 0.1082, 0.4130]]]])"
      ]
     },
     "execution_count": 56,
     "metadata": {},
     "output_type": "execute_result"
    }
   ],
   "source": [
    "a"
   ]
  },
  {
   "cell_type": "code",
   "execution_count": 57,
   "id": "2e1ed2ec",
   "metadata": {},
   "outputs": [
    {
     "data": {
      "text/plain": [
       "torch.Size([2, 3, 28, 28])"
      ]
     },
     "execution_count": 57,
     "metadata": {},
     "output_type": "execute_result"
    }
   ],
   "source": [
    "a.shape"
   ]
  },
  {
   "cell_type": "markdown",
   "id": "ccbf7b87",
   "metadata": {},
   "source": [
    "#### Mixed"
   ]
  },
  {
   "cell_type": "code",
   "execution_count": 58,
   "id": "163fa0db",
   "metadata": {},
   "outputs": [
    {
     "data": {
      "text/plain": [
       "torch.Size([2, 3, 28, 28])"
      ]
     },
     "execution_count": 58,
     "metadata": {},
     "output_type": "execute_result"
    }
   ],
   "source": [
    "a.shape"
   ]
  },
  {
   "cell_type": "code",
   "execution_count": 59,
   "id": "2e899721",
   "metadata": {},
   "outputs": [
    {
     "data": {
      "text/plain": [
       "4704"
      ]
     },
     "execution_count": 59,
     "metadata": {},
     "output_type": "execute_result"
    }
   ],
   "source": [
    "a.numel()  #总共的占用  2*3*28*28"
   ]
  },
  {
   "cell_type": "code",
   "execution_count": 60,
   "id": "3da70532",
   "metadata": {},
   "outputs": [
    {
     "data": {
      "text/plain": [
       "4"
      ]
     },
     "execution_count": 60,
     "metadata": {},
     "output_type": "execute_result"
    }
   ],
   "source": [
    "a.dim()"
   ]
  },
  {
   "cell_type": "code",
   "execution_count": 61,
   "id": "fdce1393",
   "metadata": {},
   "outputs": [],
   "source": [
    "a = torch.tensor(1)"
   ]
  },
  {
   "cell_type": "code",
   "execution_count": 62,
   "id": "1ef74cd6",
   "metadata": {},
   "outputs": [
    {
     "data": {
      "text/plain": [
       "0"
      ]
     },
     "execution_count": 62,
     "metadata": {},
     "output_type": "execute_result"
    }
   ],
   "source": [
    "a.dim()"
   ]
  },
  {
   "cell_type": "code",
   "execution_count": null,
   "id": "50ce3ad7",
   "metadata": {},
   "outputs": [],
   "source": []
  }
 ],
 "metadata": {
  "kernelspec": {
   "display_name": "Python 3 (ipykernel)",
   "language": "python",
   "name": "python3"
  },
  "language_info": {
   "codemirror_mode": {
    "name": "ipython",
    "version": 3
   },
   "file_extension": ".py",
   "mimetype": "text/x-python",
   "name": "python",
   "nbconvert_exporter": "python",
   "pygments_lexer": "ipython3",
   "version": "3.9.12"
  }
 },
 "nbformat": 4,
 "nbformat_minor": 5
}
