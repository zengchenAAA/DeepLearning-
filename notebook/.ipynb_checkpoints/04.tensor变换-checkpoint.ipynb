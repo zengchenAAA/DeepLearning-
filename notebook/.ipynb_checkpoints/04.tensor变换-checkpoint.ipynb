{
 "cells": [
  {
   "cell_type": "markdown",
   "id": "c119d0bb",
   "metadata": {},
   "source": [
    "## operation"
   ]
  },
  {
   "cell_type": "code",
   "execution_count": 1,
   "id": "bd50e454",
   "metadata": {},
   "outputs": [],
   "source": [
    "import torch\n",
    "import numpy as np"
   ]
  },
  {
   "cell_type": "markdown",
   "id": "8030c0f9",
   "metadata": {},
   "source": [
    "### view/reshape"
   ]
  },
  {
   "cell_type": "code",
   "execution_count": 2,
   "id": "fff390a3",
   "metadata": {},
   "outputs": [],
   "source": [
    "a = torch.rand(4,1,28,28)"
   ]
  },
  {
   "cell_type": "code",
   "execution_count": 3,
   "id": "f4baf2e1",
   "metadata": {},
   "outputs": [
    {
     "data": {
      "text/plain": [
       "tensor([[0.5685, 0.5568, 0.3579,  ..., 0.1895, 0.5638, 0.4945],\n",
       "        [0.3141, 0.5083, 0.4253,  ..., 0.3958, 0.8791, 0.1763],\n",
       "        [0.1584, 0.5312, 0.4316,  ..., 0.8172, 0.1258, 0.6680],\n",
       "        [0.2906, 0.5367, 0.0062,  ..., 0.6430, 0.8159, 0.4315]])"
      ]
     },
     "execution_count": 3,
     "metadata": {},
     "output_type": "execute_result"
    }
   ],
   "source": [
    "a.view(4,28*28)"
   ]
  },
  {
   "cell_type": "code",
   "execution_count": 4,
   "id": "09e750d9",
   "metadata": {},
   "outputs": [
    {
     "data": {
      "text/plain": [
       "torch.Size([4, 784])"
      ]
     },
     "execution_count": 4,
     "metadata": {},
     "output_type": "execute_result"
    }
   ],
   "source": [
    "a.view(4,28*28).shape"
   ]
  },
  {
   "cell_type": "code",
   "execution_count": 5,
   "id": "e708c365",
   "metadata": {},
   "outputs": [
    {
     "data": {
      "text/plain": [
       "torch.Size([112, 28])"
      ]
     },
     "execution_count": 5,
     "metadata": {},
     "output_type": "execute_result"
    }
   ],
   "source": [
    "a.view(4*28,28).shape"
   ]
  },
  {
   "cell_type": "code",
   "execution_count": 6,
   "id": "3453457d",
   "metadata": {},
   "outputs": [
    {
     "data": {
      "text/plain": [
       "torch.Size([4, 28, 28])"
      ]
     },
     "execution_count": 6,
     "metadata": {},
     "output_type": "execute_result"
    }
   ],
   "source": [
    "a.view(4*1,28,28).shape"
   ]
  },
  {
   "cell_type": "code",
   "execution_count": 7,
   "id": "9d67a449",
   "metadata": {},
   "outputs": [],
   "source": [
    "b = a.view(4,784)"
   ]
  },
  {
   "cell_type": "code",
   "execution_count": 8,
   "id": "8fb1fb39",
   "metadata": {},
   "outputs": [],
   "source": [
    "b = a.view(4,28,28,1) #逻辑错误  logic Bug"
   ]
  },
  {
   "cell_type": "markdown",
   "id": "48f47720",
   "metadata": {},
   "source": [
    "### flexible but prone to corrput"
   ]
  },
  {
   "cell_type": "code",
   "execution_count": 9,
   "id": "ef6da74a",
   "metadata": {},
   "outputs": [
    {
     "ename": "RuntimeError",
     "evalue": "shape '[4, 783]' is invalid for input of size 3136",
     "output_type": "error",
     "traceback": [
      "\u001b[1;31m---------------------------------------------------------------------------\u001b[0m",
      "\u001b[1;31mRuntimeError\u001b[0m                              Traceback (most recent call last)",
      "Input \u001b[1;32mIn [9]\u001b[0m, in \u001b[0;36m<cell line: 1>\u001b[1;34m()\u001b[0m\n\u001b[1;32m----> 1\u001b[0m \u001b[43ma\u001b[49m\u001b[38;5;241;43m.\u001b[39;49m\u001b[43mview\u001b[49m\u001b[43m(\u001b[49m\u001b[38;5;241;43m4\u001b[39;49m\u001b[43m,\u001b[49m\u001b[38;5;241;43m783\u001b[39;49m\u001b[43m)\u001b[49m\n",
      "\u001b[1;31mRuntimeError\u001b[0m: shape '[4, 783]' is invalid for input of size 3136"
     ]
    }
   ],
   "source": [
    "a.view(4,783)"
   ]
  },
  {
   "cell_type": "markdown",
   "id": "8211e58d",
   "metadata": {},
   "source": [
    "### squeeze\n",
    " unsqueeze(index) ：在index的位置插入一个维度  index范围[-a.dim()-1,a.dim()+1)"
   ]
  },
  {
   "cell_type": "code",
   "execution_count": 10,
   "id": "de191fd2",
   "metadata": {},
   "outputs": [
    {
     "data": {
      "text/plain": [
       "torch.Size([4, 1, 28, 28])"
      ]
     },
     "execution_count": 10,
     "metadata": {},
     "output_type": "execute_result"
    }
   ],
   "source": [
    "a.shape"
   ]
  },
  {
   "cell_type": "code",
   "execution_count": 11,
   "id": "28d36d06",
   "metadata": {},
   "outputs": [
    {
     "data": {
      "text/plain": [
       "torch.Size([1, 4, 1, 28, 28])"
      ]
     },
     "execution_count": 11,
     "metadata": {},
     "output_type": "execute_result"
    }
   ],
   "source": [
    "a.unsqueeze(0).shape   #在dim0维度加入一个维度"
   ]
  },
  {
   "cell_type": "code",
   "execution_count": 12,
   "id": "c6006f5a",
   "metadata": {},
   "outputs": [
    {
     "data": {
      "text/plain": [
       "torch.Size([4, 1, 28, 28, 1])"
      ]
     },
     "execution_count": 12,
     "metadata": {},
     "output_type": "execute_result"
    }
   ],
   "source": [
    "a.unsqueeze(-1).shape"
   ]
  },
  {
   "cell_type": "code",
   "execution_count": 13,
   "id": "996b25d5",
   "metadata": {},
   "outputs": [
    {
     "data": {
      "text/plain": [
       "torch.Size([4, 1, 28, 28, 1])"
      ]
     },
     "execution_count": 13,
     "metadata": {},
     "output_type": "execute_result"
    }
   ],
   "source": [
    "a.unsqueeze(4).shape"
   ]
  },
  {
   "cell_type": "code",
   "execution_count": 14,
   "id": "2b926c48",
   "metadata": {},
   "outputs": [
    {
     "data": {
      "text/plain": [
       "torch.Size([4, 1, 1, 28, 28])"
      ]
     },
     "execution_count": 14,
     "metadata": {},
     "output_type": "execute_result"
    }
   ],
   "source": [
    "a.unsqueeze(-4).shape"
   ]
  },
  {
   "cell_type": "code",
   "execution_count": 15,
   "id": "dd667357",
   "metadata": {},
   "outputs": [
    {
     "data": {
      "text/plain": [
       "torch.Size([1, 4, 1, 28, 28])"
      ]
     },
     "execution_count": 15,
     "metadata": {},
     "output_type": "execute_result"
    }
   ],
   "source": [
    "a.unsqueeze(-5).shape"
   ]
  },
  {
   "cell_type": "code",
   "execution_count": 16,
   "id": "d90171d2",
   "metadata": {
    "scrolled": true
   },
   "outputs": [
    {
     "ename": "IndexError",
     "evalue": "Dimension out of range (expected to be in range of [-5, 4], but got 5)",
     "output_type": "error",
     "traceback": [
      "\u001b[1;31m---------------------------------------------------------------------------\u001b[0m",
      "\u001b[1;31mIndexError\u001b[0m                                Traceback (most recent call last)",
      "Input \u001b[1;32mIn [16]\u001b[0m, in \u001b[0;36m<cell line: 1>\u001b[1;34m()\u001b[0m\n\u001b[1;32m----> 1\u001b[0m \u001b[43ma\u001b[49m\u001b[38;5;241;43m.\u001b[39;49m\u001b[43munsqueeze\u001b[49m\u001b[43m(\u001b[49m\u001b[38;5;241;43m5\u001b[39;49m\u001b[43m)\u001b[49m\u001b[38;5;241m.\u001b[39mshape\n",
      "\u001b[1;31mIndexError\u001b[0m: Dimension out of range (expected to be in range of [-5, 4], but got 5)"
     ]
    }
   ],
   "source": [
    "a.unsqueeze(5).shape"
   ]
  },
  {
   "cell_type": "code",
   "execution_count": 18,
   "id": "023ea715",
   "metadata": {},
   "outputs": [],
   "source": [
    "a = torch.tensor([1.2,2.3])"
   ]
  },
  {
   "cell_type": "code",
   "execution_count": 19,
   "id": "41ff6d32",
   "metadata": {},
   "outputs": [
    {
     "data": {
      "text/plain": [
       "tensor([[1.2000],\n",
       "        [2.3000]])"
      ]
     },
     "execution_count": 19,
     "metadata": {},
     "output_type": "execute_result"
    }
   ],
   "source": [
    "a.unsqueeze(-1)"
   ]
  },
  {
   "cell_type": "code",
   "execution_count": 20,
   "id": "7bd07613",
   "metadata": {},
   "outputs": [
    {
     "data": {
      "text/plain": [
       "tensor([[1.2000, 2.3000]])"
      ]
     },
     "execution_count": 20,
     "metadata": {},
     "output_type": "execute_result"
    }
   ],
   "source": [
    "a.unsqueeze(0)"
   ]
  },
  {
   "cell_type": "code",
   "execution_count": 21,
   "id": "82ec4543",
   "metadata": {},
   "outputs": [],
   "source": [
    "b = torch.rand(32)"
   ]
  },
  {
   "cell_type": "code",
   "execution_count": 22,
   "id": "7535283d",
   "metadata": {},
   "outputs": [],
   "source": [
    "b = b.unsqueeze(1).unsqueeze(2).unsqueeze(0)"
   ]
  },
  {
   "cell_type": "code",
   "execution_count": 23,
   "id": "6f8e6c52",
   "metadata": {},
   "outputs": [
    {
     "data": {
      "text/plain": [
       "torch.Size([1, 32, 1, 1])"
      ]
     },
     "execution_count": 23,
     "metadata": {},
     "output_type": "execute_result"
    }
   ],
   "source": [
    "b.shape"
   ]
  },
  {
   "cell_type": "markdown",
   "id": "7f9158b2",
   "metadata": {},
   "source": [
    "### unsqueeze"
   ]
  },
  {
   "cell_type": "code",
   "execution_count": 24,
   "id": "39e4b8d3",
   "metadata": {},
   "outputs": [
    {
     "data": {
      "text/plain": [
       "torch.Size([1, 32, 1, 1])"
      ]
     },
     "execution_count": 24,
     "metadata": {},
     "output_type": "execute_result"
    }
   ],
   "source": [
    "b.shape"
   ]
  },
  {
   "cell_type": "code",
   "execution_count": 25,
   "id": "c24f8116",
   "metadata": {},
   "outputs": [
    {
     "data": {
      "text/plain": [
       "torch.Size([32])"
      ]
     },
     "execution_count": 25,
     "metadata": {},
     "output_type": "execute_result"
    }
   ],
   "source": [
    "b.squeeze().shape   #直接扁平化 将多维压成一维"
   ]
  },
  {
   "cell_type": "code",
   "execution_count": 26,
   "id": "0f299eaa",
   "metadata": {},
   "outputs": [
    {
     "data": {
      "text/plain": [
       "torch.Size([32, 1, 1])"
      ]
     },
     "execution_count": 26,
     "metadata": {},
     "output_type": "execute_result"
    }
   ],
   "source": [
    "b.squeeze(0).shape"
   ]
  },
  {
   "cell_type": "code",
   "execution_count": 27,
   "id": "1b1dcc9e",
   "metadata": {},
   "outputs": [
    {
     "data": {
      "text/plain": [
       "torch.Size([1, 32, 1])"
      ]
     },
     "execution_count": 27,
     "metadata": {},
     "output_type": "execute_result"
    }
   ],
   "source": [
    "b.squeeze(-1).shape"
   ]
  },
  {
   "cell_type": "code",
   "execution_count": 28,
   "id": "9c55c6bb",
   "metadata": {},
   "outputs": [
    {
     "data": {
      "text/plain": [
       "torch.Size([1, 32, 1, 1])"
      ]
     },
     "execution_count": 28,
     "metadata": {},
     "output_type": "execute_result"
    }
   ],
   "source": [
    "b.squeeze(1).shape  #因为压缩的那一维不是1 所以不变"
   ]
  },
  {
   "cell_type": "code",
   "execution_count": 29,
   "id": "2c1568c1",
   "metadata": {},
   "outputs": [
    {
     "data": {
      "text/plain": [
       "torch.Size([32, 1, 1])"
      ]
     },
     "execution_count": 29,
     "metadata": {},
     "output_type": "execute_result"
    }
   ],
   "source": [
    "b.squeeze(-4).shape"
   ]
  },
  {
   "cell_type": "markdown",
   "id": "88a0521b",
   "metadata": {},
   "source": [
    "### expand"
   ]
  },
  {
   "cell_type": "code",
   "execution_count": 30,
   "id": "4c069e58",
   "metadata": {},
   "outputs": [],
   "source": [
    "a = torch.rand(4,32,14,14)"
   ]
  },
  {
   "cell_type": "code",
   "execution_count": 31,
   "id": "47b19a4c",
   "metadata": {},
   "outputs": [
    {
     "data": {
      "text/plain": [
       "torch.Size([1, 32, 1, 1])"
      ]
     },
     "execution_count": 31,
     "metadata": {},
     "output_type": "execute_result"
    }
   ],
   "source": [
    "b.shape"
   ]
  },
  {
   "cell_type": "code",
   "execution_count": 35,
   "id": "402d8876",
   "metadata": {},
   "outputs": [
    {
     "data": {
      "text/plain": [
       "torch.Size([4, 32, 14, 14])"
      ]
     },
     "execution_count": 35,
     "metadata": {},
     "output_type": "execute_result"
    }
   ],
   "source": [
    "b.expand(4,32,14,14).shape"
   ]
  },
  {
   "cell_type": "code",
   "execution_count": 36,
   "id": "1f5a1cd1",
   "metadata": {},
   "outputs": [
    {
     "data": {
      "text/plain": [
       "torch.Size([1, 32, 1, 1])"
      ]
     },
     "execution_count": 36,
     "metadata": {},
     "output_type": "execute_result"
    }
   ],
   "source": [
    "b.expand(-1,32,-1,-1).shape   #-1表示不变"
   ]
  },
  {
   "cell_type": "markdown",
   "id": "78097f9b",
   "metadata": {},
   "source": [
    "### repeat  \n",
    "与expand区别在于repeat是申请一片新的空间然后把数据复制进去"
   ]
  },
  {
   "cell_type": "code",
   "execution_count": 37,
   "id": "fc3b143d",
   "metadata": {},
   "outputs": [
    {
     "data": {
      "text/plain": [
       "torch.Size([1, 32, 1, 1])"
      ]
     },
     "execution_count": 37,
     "metadata": {},
     "output_type": "execute_result"
    }
   ],
   "source": [
    "b.shape"
   ]
  },
  {
   "cell_type": "code",
   "execution_count": 38,
   "id": "75990e51",
   "metadata": {
    "scrolled": true
   },
   "outputs": [
    {
     "data": {
      "text/plain": [
       "torch.Size([4, 1024, 1, 1])"
      ]
     },
     "execution_count": 38,
     "metadata": {},
     "output_type": "execute_result"
    }
   ],
   "source": [
    "b.repeat(4,32,1,1).shape"
   ]
  },
  {
   "cell_type": "code",
   "execution_count": 39,
   "id": "3527d507",
   "metadata": {},
   "outputs": [
    {
     "data": {
      "text/plain": [
       "torch.Size([4, 32, 1, 1])"
      ]
     },
     "execution_count": 39,
     "metadata": {},
     "output_type": "execute_result"
    }
   ],
   "source": [
    "b.repeat(4,1,1,1).shape"
   ]
  },
  {
   "cell_type": "code",
   "execution_count": 40,
   "id": "214b9cfa",
   "metadata": {},
   "outputs": [
    {
     "data": {
      "text/plain": [
       "torch.Size([4, 32, 32, 32])"
      ]
     },
     "execution_count": 40,
     "metadata": {},
     "output_type": "execute_result"
    }
   ],
   "source": [
    "b.repeat(4,1,32,32).shape"
   ]
  },
  {
   "cell_type": "markdown",
   "id": "72302e72",
   "metadata": {},
   "source": [
    "### .t"
   ]
  },
  {
   "cell_type": "code",
   "execution_count": 41,
   "id": "d7ec552b",
   "metadata": {},
   "outputs": [
    {
     "ename": "RuntimeError",
     "evalue": "t() expects a tensor with <= 2 dimensions, but self is 4D",
     "output_type": "error",
     "traceback": [
      "\u001b[1;31m---------------------------------------------------------------------------\u001b[0m",
      "\u001b[1;31mRuntimeError\u001b[0m                              Traceback (most recent call last)",
      "Input \u001b[1;32mIn [41]\u001b[0m, in \u001b[0;36m<cell line: 1>\u001b[1;34m()\u001b[0m\n\u001b[1;32m----> 1\u001b[0m \u001b[43mb\u001b[49m\u001b[38;5;241;43m.\u001b[39;49m\u001b[43mt\u001b[49m\u001b[43m(\u001b[49m\u001b[43m)\u001b[49m\n",
      "\u001b[1;31mRuntimeError\u001b[0m: t() expects a tensor with <= 2 dimensions, but self is 4D"
     ]
    }
   ],
   "source": [
    "b.t()   #.t()只能使用在于维度小于等于2的矩阵"
   ]
  },
  {
   "cell_type": "code",
   "execution_count": 42,
   "id": "6415ffff",
   "metadata": {},
   "outputs": [],
   "source": [
    "a = torch.randn(3,4)"
   ]
  },
  {
   "cell_type": "code",
   "execution_count": 43,
   "id": "c1b918b7",
   "metadata": {},
   "outputs": [
    {
     "data": {
      "text/plain": [
       "tensor([[-0.4872, -0.8502, -0.0793],\n",
       "        [-2.2786, -0.6401, -1.6560],\n",
       "        [ 0.3337, -1.3011,  0.6861],\n",
       "        [ 0.8301, -0.5192, -0.3411]])"
      ]
     },
     "execution_count": 43,
     "metadata": {},
     "output_type": "execute_result"
    }
   ],
   "source": [
    "a.t()"
   ]
  },
  {
   "cell_type": "markdown",
   "id": "a86c1a48",
   "metadata": {},
   "source": [
    "### transpose"
   ]
  },
  {
   "cell_type": "code",
   "execution_count": 44,
   "id": "b4f9c5d8",
   "metadata": {},
   "outputs": [],
   "source": [
    "a = torch.rand(4,3,32,32)"
   ]
  },
  {
   "cell_type": "code",
   "execution_count": 45,
   "id": "853fc7da",
   "metadata": {},
   "outputs": [
    {
     "data": {
      "text/plain": [
       "torch.Size([4, 3, 32, 32])"
      ]
     },
     "execution_count": 45,
     "metadata": {},
     "output_type": "execute_result"
    }
   ],
   "source": [
    "a.shape"
   ]
  },
  {
   "cell_type": "code",
   "execution_count": 46,
   "id": "bc63ecb2",
   "metadata": {},
   "outputs": [
    {
     "ename": "RuntimeError",
     "evalue": "view size is not compatible with input tensor's size and stride (at least one dimension spans across two contiguous subspaces). Use .reshape(...) instead.",
     "output_type": "error",
     "traceback": [
      "\u001b[1;31m---------------------------------------------------------------------------\u001b[0m",
      "\u001b[1;31mRuntimeError\u001b[0m                              Traceback (most recent call last)",
      "Input \u001b[1;32mIn [46]\u001b[0m, in \u001b[0;36m<cell line: 1>\u001b[1;34m()\u001b[0m\n\u001b[1;32m----> 1\u001b[0m a1 \u001b[38;5;241m=\u001b[39m \u001b[43ma\u001b[49m\u001b[38;5;241;43m.\u001b[39;49m\u001b[43mtranspose\u001b[49m\u001b[43m(\u001b[49m\u001b[38;5;241;43m1\u001b[39;49m\u001b[43m,\u001b[49m\u001b[38;5;241;43m3\u001b[39;49m\u001b[43m)\u001b[49m\u001b[38;5;241;43m.\u001b[39;49m\u001b[43mview\u001b[49m\u001b[43m(\u001b[49m\u001b[38;5;241;43m4\u001b[39;49m\u001b[43m,\u001b[49m\u001b[38;5;241;43m3\u001b[39;49m\u001b[38;5;241;43m*\u001b[39;49m\u001b[38;5;241;43m32\u001b[39;49m\u001b[38;5;241;43m*\u001b[39;49m\u001b[38;5;241;43m32\u001b[39;49m\u001b[43m)\u001b[49m\u001b[38;5;241m.\u001b[39mview(\u001b[38;5;241m4\u001b[39m,\u001b[38;5;241m3\u001b[39m,\u001b[38;5;241m32\u001b[39m,\u001b[38;5;241m32\u001b[39m)\n",
      "\u001b[1;31mRuntimeError\u001b[0m: view size is not compatible with input tensor's size and stride (at least one dimension spans across two contiguous subspaces). Use .reshape(...) instead."
     ]
    }
   ],
   "source": [
    "a1 = a.transpose(1,3).view(4,3*32*32).view(4,3,32,32)"
   ]
  },
  {
   "cell_type": "code",
   "execution_count": 47,
   "id": "2f964274",
   "metadata": {},
   "outputs": [],
   "source": [
    "a1 = a.transpose(1,3).contiguous().view(4,3*32*32).view(4,3,32,32)"
   ]
  },
  {
   "cell_type": "code",
   "execution_count": 48,
   "id": "b39e89f1",
   "metadata": {},
   "outputs": [],
   "source": [
    "a2 = a.transpose(1,3).contiguous().view(4,3*32*32).view(4,32,32,3).transpose(1,3)"
   ]
  },
  {
   "cell_type": "code",
   "execution_count": 49,
   "id": "1e8529b2",
   "metadata": {},
   "outputs": [
    {
     "data": {
      "text/plain": [
       "(torch.Size([4, 3, 32, 32]), torch.Size([4, 3, 32, 32]))"
      ]
     },
     "execution_count": 49,
     "metadata": {},
     "output_type": "execute_result"
    }
   ],
   "source": [
    "a1.shape,a2.shape"
   ]
  },
  {
   "cell_type": "code",
   "execution_count": 50,
   "id": "caa50394",
   "metadata": {},
   "outputs": [
    {
     "data": {
      "text/plain": [
       "tensor(False)"
      ]
     },
     "execution_count": 50,
     "metadata": {},
     "output_type": "execute_result"
    }
   ],
   "source": [
    "torch.all(torch.eq(a,a1))"
   ]
  },
  {
   "cell_type": "code",
   "execution_count": 51,
   "id": "6e84d968",
   "metadata": {},
   "outputs": [
    {
     "data": {
      "text/plain": [
       "tensor(True)"
      ]
     },
     "execution_count": 51,
     "metadata": {},
     "output_type": "execute_result"
    }
   ],
   "source": [
    "torch.all(torch.eq(a,a2))"
   ]
  },
  {
   "cell_type": "markdown",
   "id": "d184a34b",
   "metadata": {},
   "source": [
    "### permute"
   ]
  },
  {
   "cell_type": "code",
   "execution_count": 52,
   "id": "83092b48",
   "metadata": {},
   "outputs": [],
   "source": [
    "a = torch.rand(4,3,28,28)"
   ]
  },
  {
   "cell_type": "code",
   "execution_count": 53,
   "id": "ef8977b5",
   "metadata": {},
   "outputs": [
    {
     "data": {
      "text/plain": [
       "torch.Size([4, 28, 28, 3])"
      ]
     },
     "execution_count": 53,
     "metadata": {},
     "output_type": "execute_result"
    }
   ],
   "source": [
    "a.transpose(1,3).shape"
   ]
  },
  {
   "cell_type": "code",
   "execution_count": 54,
   "id": "7245c541",
   "metadata": {},
   "outputs": [],
   "source": [
    "b = torch.rand(4,3,28,32)"
   ]
  },
  {
   "cell_type": "code",
   "execution_count": 55,
   "id": "993e0883",
   "metadata": {},
   "outputs": [
    {
     "data": {
      "text/plain": [
       "torch.Size([4, 32, 28, 3])"
      ]
     },
     "execution_count": 55,
     "metadata": {},
     "output_type": "execute_result"
    }
   ],
   "source": [
    "b.transpose(1,3).shape"
   ]
  },
  {
   "cell_type": "code",
   "execution_count": 56,
   "id": "1cee214a",
   "metadata": {},
   "outputs": [
    {
     "data": {
      "text/plain": [
       "torch.Size([4, 28, 32, 3])"
      ]
     },
     "execution_count": 56,
     "metadata": {},
     "output_type": "execute_result"
    }
   ],
   "source": [
    "b.transpose(1,3).transpose(1,2).shape"
   ]
  },
  {
   "cell_type": "code",
   "execution_count": 57,
   "id": "0841a53b",
   "metadata": {},
   "outputs": [
    {
     "data": {
      "text/plain": [
       "torch.Size([4, 28, 32, 3])"
      ]
     },
     "execution_count": 57,
     "metadata": {},
     "output_type": "execute_result"
    }
   ],
   "source": [
    "b.permute(0,2,3,1).shape"
   ]
  }
 ],
 "metadata": {
  "kernelspec": {
   "display_name": "Python 3 (ipykernel)",
   "language": "python",
   "name": "python3"
  },
  "language_info": {
   "codemirror_mode": {
    "name": "ipython",
    "version": 3
   },
   "file_extension": ".py",
   "mimetype": "text/x-python",
   "name": "python",
   "nbconvert_exporter": "python",
   "pygments_lexer": "ipython3",
   "version": "3.9.12"
  }
 },
 "nbformat": 4,
 "nbformat_minor": 5
}
