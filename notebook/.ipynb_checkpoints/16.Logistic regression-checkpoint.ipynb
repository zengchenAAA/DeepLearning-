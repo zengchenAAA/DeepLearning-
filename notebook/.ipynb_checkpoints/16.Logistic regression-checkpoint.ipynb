{
 "cells": [
  {
   "cell_type": "markdown",
   "id": "5b882462",
   "metadata": {},
   "source": [
    "## Binary Classification"
   ]
  },
  {
   "cell_type": "markdown",
   "id": "2f2a04df",
   "metadata": {},
   "source": [
    "* interpret network as $f:x \\rightarrow p(y|x;\\theta)$  \n",
    "* output $ \\in [0,1]$\n",
    "* which is exactly what logistic function comes in!"
   ]
  },
  {
   "cell_type": "markdown",
   "id": "1ae4805b",
   "metadata": {},
   "source": [
    "## Goal v.s. Approach"
   ]
  },
  {
   "cell_type": "markdown",
   "id": "54123b97",
   "metadata": {},
   "source": [
    "* ###  For regression:\n",
    "    * Goal: pred = y\n",
    "    * Approach: minimize dist( pred, y)"
   ]
  },
  {
   "cell_type": "markdown",
   "id": "4b4bfcea",
   "metadata": {},
   "source": [
    "* ### For classification:\n",
    "    * Goal: maximize benchmark, e.g. accuracy\n",
    "    * Approach1: minimize $dist( p_\\theta(y|x),p_r(y|x))$\n",
    "    * Approach2: minimize $divergence(p_\\theta(y|x),p_r(y|x))$"
   ]
  },
  {
   "cell_type": "markdown",
   "id": "a02e84e7",
   "metadata": {},
   "source": [
    "## why not maximize accuracy?"
   ]
  },
  {
   "cell_type": "markdown",
   "id": "cc1423f4",
   "metadata": {},
   "source": [
    "* $acc = \\frac{\\sum I(pred_i == y_i)}{len(Y)} $  \n",
    "  注：预测对的数量除以总的数量\n",
    "* issues 1. gradient = 0 if accuracy unchanged but weights changed\n",
    "* issues 2. gradient not continuous since the number of correct is not continuous  \n",
    "  简单来说就是分类问题利用精度作为目标函数导致不连续，不能求导。"
   ]
  },
  {
   "cell_type": "markdown",
   "id": "c929507f",
   "metadata": {},
   "source": [
    "## why call logistic regression"
   ]
  },
  {
   "cell_type": "markdown",
   "id": "1b64e0a6",
   "metadata": {},
   "source": [
    "* user sigmoid\n",
    "* Controversial\n",
    "    * MSE => Regression   (MSE = mean square error)\n",
    "    * Cross Entropy => classification"
   ]
  },
  {
   "cell_type": "markdown",
   "id": "3622085d",
   "metadata": {},
   "source": [
    "## Binary Classification"
   ]
  },
  {
   "cell_type": "markdown",
   "id": "8aa6f333",
   "metadata": {},
   "source": [
    "* $ f: x\\rightarrow p(y = 1|x)$\n",
    "    * if $ p(y=1|x)>0.5,$ predict as 1 \n",
    "    * else predict as 0\n",
    "* minimize MSE"
   ]
  },
  {
   "cell_type": "markdown",
   "id": "2915aafc",
   "metadata": {},
   "source": [
    "## Multi-class classfication"
   ]
  },
  {
   "cell_type": "markdown",
   "id": "97c44711",
   "metadata": {},
   "source": [
    "* $ f: x \\rightarrow p(y|x)$\n",
    "    * $[p(y = 0|x),p(y=1|x),\\cdots, p(y=9|x)]$\n",
    "* $ p(y|x)\\in [0,1]$\n",
    "* $ \\sum_{i = 0}^{9}p(y=i|x) = 1 $"
   ]
  },
  {
   "cell_type": "markdown",
   "id": "ea7c3337",
   "metadata": {},
   "source": [
    "## softmax"
   ]
  },
  {
   "cell_type": "markdown",
   "id": "e99065de",
   "metadata": {},
   "source": [
    "use the softmax  \n",
    "* satisfy $ \\sum_{i = 0}^{9}p(y=i|x) = 1 $，\n",
    "* enlarge the larger  \n",
    "$p_i = \\frac{e^a_i}{\\sum_{k=1}^{N} e^{ak}}$  保证 $\\sum p_i = 1$且越大的值占比越大\n"
   ]
  },
  {
   "cell_type": "code",
   "execution_count": null,
   "id": "6db1bb33",
   "metadata": {},
   "outputs": [],
   "source": []
  }
 ],
 "metadata": {
  "kernelspec": {
   "display_name": "Python 3 (ipykernel)",
   "language": "python",
   "name": "python3"
  },
  "language_info": {
   "codemirror_mode": {
    "name": "ipython",
    "version": 3
   },
   "file_extension": ".py",
   "mimetype": "text/x-python",
   "name": "python",
   "nbconvert_exporter": "python",
   "pygments_lexer": "ipython3",
   "version": "3.9.12"
  }
 },
 "nbformat": 4,
 "nbformat_minor": 5
}
