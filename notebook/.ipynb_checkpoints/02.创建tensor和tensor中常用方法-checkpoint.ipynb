{
 "cells": [
  {
   "cell_type": "code",
   "execution_count": 1,
   "id": "f639a602",
   "metadata": {},
   "outputs": [],
   "source": [
    "import torch\n",
    "import numpy as np"
   ]
  },
  {
   "cell_type": "markdown",
   "id": "72d5dadd",
   "metadata": {},
   "source": [
    "### import from numpy"
   ]
  },
  {
   "cell_type": "code",
   "execution_count": 2,
   "id": "3d9057ad",
   "metadata": {},
   "outputs": [],
   "source": [
    "a = np.array([2,3.3])"
   ]
  },
  {
   "cell_type": "code",
   "execution_count": 3,
   "id": "3a82a174",
   "metadata": {},
   "outputs": [
    {
     "data": {
      "text/plain": [
       "tensor([2.0000, 3.3000], dtype=torch.float64)"
      ]
     },
     "execution_count": 3,
     "metadata": {},
     "output_type": "execute_result"
    }
   ],
   "source": [
    "torch.from_numpy(a)"
   ]
  },
  {
   "cell_type": "code",
   "execution_count": 5,
   "id": "cc5bf06a",
   "metadata": {},
   "outputs": [],
   "source": [
    "a = np.ones([2,3]) #one里面的[]写的是sharp大小"
   ]
  },
  {
   "cell_type": "code",
   "execution_count": 6,
   "id": "553ca40b",
   "metadata": {},
   "outputs": [
    {
     "data": {
      "text/plain": [
       "tensor([[1., 1., 1.],\n",
       "        [1., 1., 1.]], dtype=torch.float64)"
      ]
     },
     "execution_count": 6,
     "metadata": {},
     "output_type": "execute_result"
    }
   ],
   "source": [
    "torch.from_numpy(a)"
   ]
  },
  {
   "cell_type": "markdown",
   "id": "ea8978dc",
   "metadata": {},
   "source": [
    "### import from list"
   ]
  },
  {
   "cell_type": "code",
   "execution_count": 7,
   "id": "44beb7ae",
   "metadata": {},
   "outputs": [
    {
     "data": {
      "text/plain": [
       "tensor([2.0000, 3.2000])"
      ]
     },
     "execution_count": 7,
     "metadata": {},
     "output_type": "execute_result"
    }
   ],
   "source": [
    "torch.tensor([2.,3.2])"
   ]
  },
  {
   "cell_type": "code",
   "execution_count": 8,
   "id": "3a8ffcc3",
   "metadata": {},
   "outputs": [
    {
     "data": {
      "text/plain": [
       "tensor([2.0000, 3.2000])"
      ]
     },
     "execution_count": 8,
     "metadata": {},
     "output_type": "execute_result"
    }
   ],
   "source": [
    "torch.FloatTensor([2.,3.2])"
   ]
  },
  {
   "cell_type": "code",
   "execution_count": 9,
   "id": "e1ca2ddc",
   "metadata": {},
   "outputs": [
    {
     "data": {
      "text/plain": [
       "tensor([[ 2.0000,  3.2000],\n",
       "        [ 1.0000, 22.3000]])"
      ]
     },
     "execution_count": 9,
     "metadata": {},
     "output_type": "execute_result"
    }
   ],
   "source": [
    "torch.tensor([[2.,3.2],[1.,22.3]])"
   ]
  },
  {
   "cell_type": "markdown",
   "id": "cab672e4",
   "metadata": {},
   "source": [
    "### uninitialized"
   ]
  },
  {
   "cell_type": "code",
   "execution_count": 12,
   "id": "6d879225",
   "metadata": {},
   "outputs": [
    {
     "data": {
      "text/plain": [
       "tensor([[0.0000e+00, 0.0000e+00, 2.6332e+20],\n",
       "        [8.4634e-07, 2.6100e+20, 4.1726e-08]])"
      ]
     },
     "execution_count": 12,
     "metadata": {},
     "output_type": "execute_result"
    }
   ],
   "source": [
    "torch.empty(2,3)"
   ]
  },
  {
   "cell_type": "code",
   "execution_count": 13,
   "id": "b56be3e2",
   "metadata": {},
   "outputs": [
    {
     "data": {
      "text/plain": [
       "tensor([[[0.0000e+00, 0.0000e+00, 2.1019e-44, 0.0000e+00],\n",
       "         [0.0000e+00, 0.0000e+00, 7.3787e+22, 7.1746e-43],\n",
       "         [3.5449e-36, 7.3848e-43, 0.0000e+00, 0.0000e+00]],\n",
       "\n",
       "        [[2.1019e-44, 0.0000e+00, 0.0000e+00, 0.0000e+00],\n",
       "         [7.0062e+22, 1.6115e-43, 3.5449e-36, 7.3848e-43],\n",
       "         [0.0000e+00, 0.0000e+00, 2.1019e-44, 0.0000e+00]]])"
      ]
     },
     "execution_count": 13,
     "metadata": {},
     "output_type": "execute_result"
    }
   ],
   "source": [
    "torch.FloatTensor(2,3,4)"
   ]
  },
  {
   "cell_type": "code",
   "execution_count": 14,
   "id": "327dc8c0",
   "metadata": {},
   "outputs": [
    {
     "data": {
      "text/plain": [
       "tensor([[[16843009, 16843009, 16843009],\n",
       "         [16843009, 16843009, 16843009]]], dtype=torch.int32)"
      ]
     },
     "execution_count": 14,
     "metadata": {},
     "output_type": "execute_result"
    }
   ],
   "source": [
    "torch.IntTensor(1,2,3)"
   ]
  },
  {
   "cell_type": "markdown",
   "id": "57ea5df9",
   "metadata": {},
   "source": [
    "### set default type"
   ]
  },
  {
   "cell_type": "code",
   "execution_count": 15,
   "id": "b7d378c4",
   "metadata": {},
   "outputs": [
    {
     "data": {
      "text/plain": [
       "'torch.FloatTensor'"
      ]
     },
     "execution_count": 15,
     "metadata": {},
     "output_type": "execute_result"
    }
   ],
   "source": [
    "torch.tensor([1.2,3]).type()"
   ]
  },
  {
   "cell_type": "code",
   "execution_count": 16,
   "id": "c4d550be",
   "metadata": {},
   "outputs": [],
   "source": [
    "torch.set_default_tensor_type(torch.DoubleTensor)"
   ]
  },
  {
   "cell_type": "code",
   "execution_count": 18,
   "id": "f1f1c072",
   "metadata": {},
   "outputs": [
    {
     "data": {
      "text/plain": [
       "'torch.DoubleTensor'"
      ]
     },
     "execution_count": 18,
     "metadata": {},
     "output_type": "execute_result"
    }
   ],
   "source": [
    "torch.tensor([1.2,3]).type()"
   ]
  },
  {
   "cell_type": "code",
   "execution_count": 19,
   "id": "6435f4cd",
   "metadata": {},
   "outputs": [],
   "source": [
    "torch.set_default_tensor_type(torch.FloatTensor)"
   ]
  },
  {
   "cell_type": "markdown",
   "id": "e77fa539",
   "metadata": {},
   "source": [
    "### rand/rand_like,randint"
   ]
  },
  {
   "cell_type": "code",
   "execution_count": 21,
   "id": "aa33ee14",
   "metadata": {},
   "outputs": [
    {
     "data": {
      "text/plain": [
       "tensor([[0.6078, 0.4773, 0.7218],\n",
       "        [0.6701, 0.1783, 0.7753],\n",
       "        [0.2103, 0.1507, 0.0980]])"
      ]
     },
     "execution_count": 21,
     "metadata": {},
     "output_type": "execute_result"
    }
   ],
   "source": [
    "torch.rand(3,3)   #随机生成[0,1）填满所有"
   ]
  },
  {
   "cell_type": "code",
   "execution_count": 23,
   "id": "6a68cfe5",
   "metadata": {},
   "outputs": [],
   "source": [
    "a = torch.rand(3,3)"
   ]
  },
  {
   "cell_type": "code",
   "execution_count": 24,
   "id": "ff7b439e",
   "metadata": {},
   "outputs": [
    {
     "data": {
      "text/plain": [
       "tensor([[0.2166, 0.7173, 0.6726],\n",
       "        [0.8013, 0.9442, 0.9599],\n",
       "        [0.6105, 0.1909, 0.0674]])"
      ]
     },
     "execution_count": 24,
     "metadata": {},
     "output_type": "execute_result"
    }
   ],
   "source": [
    "torch.rand_like(a)   #创建一个和a同样维度的张量"
   ]
  },
  {
   "cell_type": "code",
   "execution_count": 25,
   "id": "47ff992d",
   "metadata": {},
   "outputs": [
    {
     "data": {
      "text/plain": [
       "tensor([[9, 2, 6],\n",
       "        [9, 4, 7],\n",
       "        [6, 2, 8]])"
      ]
     },
     "execution_count": 25,
     "metadata": {},
     "output_type": "execute_result"
    }
   ],
   "source": [
    "torch.randint(1,10,[3,3])  #创建一个值域在[1,10）的3x3矩阵"
   ]
  },
  {
   "cell_type": "markdown",
   "id": "93ad9cb3",
   "metadata": {},
   "source": [
    "### randn"
   ]
  },
  {
   "cell_type": "code",
   "execution_count": 27,
   "id": "24bdfc3e",
   "metadata": {},
   "outputs": [
    {
     "data": {
      "text/plain": [
       "tensor([[-0.6299, -0.8715,  2.4977],\n",
       "        [-0.8538, -0.9897,  0.7800],\n",
       "        [ 1.0282,  0.1393,  0.6843]])"
      ]
     },
     "execution_count": 27,
     "metadata": {},
     "output_type": "execute_result"
    }
   ],
   "source": [
    "torch.randn(3,3)  #形成一个方差为1，均值为0的矩阵"
   ]
  },
  {
   "cell_type": "code",
   "execution_count": 30,
   "id": "e19c71fe",
   "metadata": {},
   "outputs": [
    {
     "data": {
      "text/plain": [
       "tensor([ 1.1912,  0.5137, -0.5890, -0.5930,  0.8867,  0.3131,  0.0545, -0.3904,\n",
       "        -0.1903,  0.1095])"
      ]
     },
     "execution_count": 30,
     "metadata": {},
     "output_type": "execute_result"
    }
   ],
   "source": [
    "torch.normal(mean=torch.full([10],0.),std= torch.arange(1,0,-0.1))\n",
    "#mean表示均值   std表示方差"
   ]
  },
  {
   "cell_type": "code",
   "execution_count": 31,
   "id": "50eda27e",
   "metadata": {},
   "outputs": [
    {
     "data": {
      "text/plain": [
       "tensor([ 0.7494, -0.1455,  0.1729, -1.1302,  1.1385, -0.2944,  0.2525, -0.2335,\n",
       "        -0.0098,  0.0291])"
      ]
     },
     "execution_count": 31,
     "metadata": {},
     "output_type": "execute_result"
    }
   ],
   "source": [
    "torch.normal(mean=torch.full([10],0.),std=torch.arange(1,0,-0.1))"
   ]
  },
  {
   "cell_type": "markdown",
   "id": "b385c1f0",
   "metadata": {},
   "source": [
    "### full"
   ]
  },
  {
   "cell_type": "code",
   "execution_count": 33,
   "id": "2cbf93e7",
   "metadata": {},
   "outputs": [
    {
     "data": {
      "text/plain": [
       "tensor([[7, 7, 7],\n",
       "        [7, 7, 7]])"
      ]
     },
     "execution_count": 33,
     "metadata": {},
     "output_type": "execute_result"
    }
   ],
   "source": [
    "torch.full([2,3],7)  #给定维度张量  填充规定数值"
   ]
  },
  {
   "cell_type": "code",
   "execution_count": 36,
   "id": "e642629d",
   "metadata": {},
   "outputs": [
    {
     "data": {
      "text/plain": [
       "tensor(7)"
      ]
     },
     "execution_count": 36,
     "metadata": {},
     "output_type": "execute_result"
    }
   ],
   "source": [
    "torch.full([],7)  #dim0  标量"
   ]
  },
  {
   "cell_type": "code",
   "execution_count": 37,
   "id": "c6046ee1",
   "metadata": {},
   "outputs": [
    {
     "data": {
      "text/plain": [
       "tensor([7])"
      ]
     },
     "execution_count": 37,
     "metadata": {},
     "output_type": "execute_result"
    }
   ],
   "source": [
    "torch.full([1],7)"
   ]
  },
  {
   "cell_type": "markdown",
   "id": "47500895",
   "metadata": {},
   "source": [
    "### arange/range"
   ]
  },
  {
   "cell_type": "code",
   "execution_count": 39,
   "id": "40fb25f0",
   "metadata": {},
   "outputs": [
    {
     "data": {
      "text/plain": [
       "tensor([0, 1, 2, 3, 4, 5, 6, 7, 8, 9])"
      ]
     },
     "execution_count": 39,
     "metadata": {},
     "output_type": "execute_result"
    }
   ],
   "source": [
    "torch.arange(0,10)  #按递增step=1的形式从0到10（不包含10）生成一个标量"
   ]
  },
  {
   "cell_type": "code",
   "execution_count": 40,
   "id": "9bb10df1",
   "metadata": {},
   "outputs": [
    {
     "data": {
      "text/plain": [
       "tensor([0, 2, 4, 6, 8])"
      ]
     },
     "execution_count": 40,
     "metadata": {},
     "output_type": "execute_result"
    }
   ],
   "source": [
    "torch.arange(0,10,2)"
   ]
  },
  {
   "cell_type": "code",
   "execution_count": 41,
   "id": "be246786",
   "metadata": {},
   "outputs": [
    {
     "name": "stderr",
     "output_type": "stream",
     "text": [
      "C:\\Users\\19252\\AppData\\Local\\Temp\\ipykernel_4488\\497691777.py:1: UserWarning: torch.range is deprecated and will be removed in a future release because its behavior is inconsistent with Python's range builtin. Instead, use torch.arange, which produces values in [start, end).\n",
      "  torch.range(0,10)\n"
     ]
    },
    {
     "data": {
      "text/plain": [
       "tensor([ 0.,  1.,  2.,  3.,  4.,  5.,  6.,  7.,  8.,  9., 10.])"
      ]
     },
     "execution_count": 41,
     "metadata": {},
     "output_type": "execute_result"
    }
   ],
   "source": [
    "torch.range(0,10)  #尽量不要用"
   ]
  },
  {
   "cell_type": "markdown",
   "id": "e1006760",
   "metadata": {},
   "source": [
    "### linespace/logspace"
   ]
  },
  {
   "cell_type": "code",
   "execution_count": 45,
   "id": "b9943ff1",
   "metadata": {},
   "outputs": [
    {
     "data": {
      "text/plain": [
       "tensor([ 0.0000,  3.3333,  6.6667, 10.0000])"
      ]
     },
     "execution_count": 45,
     "metadata": {},
     "output_type": "execute_result"
    }
   ],
   "source": [
    "torch.linspace(0,10,steps=4)  \n",
    "#从0到10分成4个部分  第一个值和最后一个值都为范围界点，每个值是前一个值加上(10/3)"
   ]
  },
  {
   "cell_type": "code",
   "execution_count": 46,
   "id": "e9dc9b7d",
   "metadata": {},
   "outputs": [
    {
     "data": {
      "text/plain": [
       "tensor([ 0.0000,  1.1111,  2.2222,  3.3333,  4.4444,  5.5556,  6.6667,  7.7778,\n",
       "         8.8889, 10.0000])"
      ]
     },
     "execution_count": 46,
     "metadata": {},
     "output_type": "execute_result"
    }
   ],
   "source": [
    "torch.linspace(0,10,steps=10)  #10/9"
   ]
  },
  {
   "cell_type": "code",
   "execution_count": 49,
   "id": "d936d1df",
   "metadata": {},
   "outputs": [
    {
     "data": {
      "text/plain": [
       "tensor([ 0.,  1.,  2.,  3.,  4.,  5.,  6.,  7.,  8.,  9., 10.])"
      ]
     },
     "execution_count": 49,
     "metadata": {},
     "output_type": "execute_result"
    }
   ],
   "source": [
    "torch.linspace(0,10,steps=11)  #10/10"
   ]
  },
  {
   "cell_type": "code",
   "execution_count": 51,
   "id": "6b429c8f",
   "metadata": {},
   "outputs": [
    {
     "data": {
      "text/plain": [
       "tensor([1.0000, 0.7743, 0.5995, 0.4642, 0.3594, 0.2783, 0.2154, 0.1668, 0.1292,\n",
       "        0.1000])"
      ]
     },
     "execution_count": 51,
     "metadata": {},
     "output_type": "execute_result"
    }
   ],
   "source": [
    "torch.logspace(0,-1,steps=10)\n",
    "#10的0次方......10的-1次方"
   ]
  },
  {
   "cell_type": "code",
   "execution_count": 53,
   "id": "1324b5b4",
   "metadata": {},
   "outputs": [
    {
     "data": {
      "text/plain": [
       "tensor([ 1.0000,  1.2915,  1.6681,  2.1544,  2.7826,  3.5938,  4.6416,  5.9948,\n",
       "         7.7426, 10.0000])"
      ]
     },
     "execution_count": 53,
     "metadata": {},
     "output_type": "execute_result"
    }
   ],
   "source": [
    "torch.logspace(0,1,steps=10)"
   ]
  },
  {
   "cell_type": "markdown",
   "id": "e0938a31",
   "metadata": {},
   "source": [
    "### ones/zeros/eye"
   ]
  },
  {
   "cell_type": "code",
   "execution_count": 54,
   "id": "da98a5ed",
   "metadata": {},
   "outputs": [
    {
     "data": {
      "text/plain": [
       "tensor([[1., 1., 1.],\n",
       "        [1., 1., 1.],\n",
       "        [1., 1., 1.]])"
      ]
     },
     "execution_count": 54,
     "metadata": {},
     "output_type": "execute_result"
    }
   ],
   "source": [
    "torch.ones(3,3)"
   ]
  },
  {
   "cell_type": "code",
   "execution_count": 55,
   "id": "517a74d7",
   "metadata": {},
   "outputs": [
    {
     "data": {
      "text/plain": [
       "tensor([[0., 0., 0.],\n",
       "        [0., 0., 0.],\n",
       "        [0., 0., 0.]])"
      ]
     },
     "execution_count": 55,
     "metadata": {},
     "output_type": "execute_result"
    }
   ],
   "source": [
    "torch.zeros(3,3)"
   ]
  },
  {
   "cell_type": "code",
   "execution_count": 57,
   "id": "40a9081a",
   "metadata": {},
   "outputs": [
    {
     "data": {
      "text/plain": [
       "tensor([[1., 0., 0., 0.],\n",
       "        [0., 1., 0., 0.],\n",
       "        [0., 0., 1., 0.]])"
      ]
     },
     "execution_count": 57,
     "metadata": {},
     "output_type": "execute_result"
    }
   ],
   "source": [
    "torch.eye(3,4)   #生成对角线为1 其余都为0的张量  只能使用在矩阵上"
   ]
  },
  {
   "cell_type": "code",
   "execution_count": 58,
   "id": "f259d3cf",
   "metadata": {},
   "outputs": [
    {
     "data": {
      "text/plain": [
       "tensor([[1., 0., 0.],\n",
       "        [0., 1., 0.],\n",
       "        [0., 0., 1.]])"
      ]
     },
     "execution_count": 58,
     "metadata": {},
     "output_type": "execute_result"
    }
   ],
   "source": [
    "torch.eye(3)"
   ]
  },
  {
   "cell_type": "code",
   "execution_count": 61,
   "id": "eb11c442",
   "metadata": {},
   "outputs": [],
   "source": [
    "a= torch.zeros(3,3)"
   ]
  },
  {
   "cell_type": "code",
   "execution_count": 62,
   "id": "bc63778a",
   "metadata": {},
   "outputs": [
    {
     "data": {
      "text/plain": [
       "tensor([[1., 1., 1.],\n",
       "        [1., 1., 1.],\n",
       "        [1., 1., 1.]])"
      ]
     },
     "execution_count": 62,
     "metadata": {},
     "output_type": "execute_result"
    }
   ],
   "source": [
    "torch.ones_like(a)"
   ]
  },
  {
   "cell_type": "markdown",
   "id": "7740310d",
   "metadata": {},
   "source": [
    "### randperm"
   ]
  },
  {
   "cell_type": "code",
   "execution_count": 63,
   "id": "2cc30944",
   "metadata": {},
   "outputs": [
    {
     "data": {
      "text/plain": [
       "tensor([9, 0, 5, 8, 6, 4, 7, 3, 1, 2])"
      ]
     },
     "execution_count": 63,
     "metadata": {},
     "output_type": "execute_result"
    }
   ],
   "source": [
    "torch.randperm(10)"
   ]
  },
  {
   "cell_type": "code",
   "execution_count": 64,
   "id": "aea44a57",
   "metadata": {},
   "outputs": [],
   "source": [
    "a= torch.rand(2,3)"
   ]
  },
  {
   "cell_type": "code",
   "execution_count": 65,
   "id": "fce11db2",
   "metadata": {},
   "outputs": [],
   "source": [
    "b= torch.rand(2,2)"
   ]
  },
  {
   "cell_type": "code",
   "execution_count": 94,
   "id": "44b33061",
   "metadata": {},
   "outputs": [],
   "source": [
    "idx = torch.randperm(2)"
   ]
  },
  {
   "cell_type": "code",
   "execution_count": 95,
   "id": "f5e11ef4",
   "metadata": {},
   "outputs": [
    {
     "data": {
      "text/plain": [
       "tensor([1, 0])"
      ]
     },
     "execution_count": 95,
     "metadata": {},
     "output_type": "execute_result"
    }
   ],
   "source": [
    "idx"
   ]
  },
  {
   "cell_type": "code",
   "execution_count": 96,
   "id": "c9f65546",
   "metadata": {},
   "outputs": [
    {
     "data": {
      "text/plain": [
       "tensor([[0.3571, 0.6685, 0.2567],\n",
       "        [0.1629, 0.4012, 0.7510]])"
      ]
     },
     "execution_count": 96,
     "metadata": {},
     "output_type": "execute_result"
    }
   ],
   "source": [
    "a[idx]"
   ]
  },
  {
   "cell_type": "code",
   "execution_count": 97,
   "id": "1729bd91",
   "metadata": {},
   "outputs": [
    {
     "data": {
      "text/plain": [
       "tensor([[0.8185, 0.3937],\n",
       "        [0.7870, 0.1116]])"
      ]
     },
     "execution_count": 97,
     "metadata": {},
     "output_type": "execute_result"
    }
   ],
   "source": [
    "b[idx]"
   ]
  },
  {
   "cell_type": "code",
   "execution_count": 98,
   "id": "76c0bc43",
   "metadata": {},
   "outputs": [
    {
     "data": {
      "text/plain": [
       "(tensor([[0.1629, 0.4012, 0.7510],\n",
       "         [0.3571, 0.6685, 0.2567]]),\n",
       " tensor([[0.7870, 0.1116],\n",
       "         [0.8185, 0.3937]]))"
      ]
     },
     "execution_count": 98,
     "metadata": {},
     "output_type": "execute_result"
    }
   ],
   "source": [
    "a,b"
   ]
  },
  {
   "cell_type": "code",
   "execution_count": null,
   "id": "4bc59d23",
   "metadata": {},
   "outputs": [],
   "source": []
  }
 ],
 "metadata": {
  "kernelspec": {
   "display_name": "Python 3 (ipykernel)",
   "language": "python",
   "name": "python3"
  },
  "language_info": {
   "codemirror_mode": {
    "name": "ipython",
    "version": 3
   },
   "file_extension": ".py",
   "mimetype": "text/x-python",
   "name": "python",
   "nbconvert_exporter": "python",
   "pygments_lexer": "ipython3",
   "version": "3.9.12"
  }
 },
 "nbformat": 4,
 "nbformat_minor": 5
}
