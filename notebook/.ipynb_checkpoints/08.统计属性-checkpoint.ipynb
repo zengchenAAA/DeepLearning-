{
 "cells": [
  {
   "cell_type": "markdown",
   "id": "216d6acb",
   "metadata": {},
   "source": [
    "### norm"
   ]
  },
  {
   "cell_type": "code",
   "execution_count": 1,
   "id": "5bdac4b5",
   "metadata": {},
   "outputs": [],
   "source": [
    "import torch"
   ]
  },
  {
   "cell_type": "code",
   "execution_count": 9,
   "id": "ccc8d902",
   "metadata": {},
   "outputs": [],
   "source": [
    "a = torch.full([8],1.)"
   ]
  },
  {
   "cell_type": "code",
   "execution_count": 10,
   "id": "12886ca0",
   "metadata": {},
   "outputs": [],
   "source": [
    "b = a.view(2,4)"
   ]
  },
  {
   "cell_type": "code",
   "execution_count": 11,
   "id": "cc1756fc",
   "metadata": {},
   "outputs": [],
   "source": [
    "c = a.view(2,2,2)"
   ]
  },
  {
   "cell_type": "code",
   "execution_count": 12,
   "id": "ab256ff9",
   "metadata": {},
   "outputs": [
    {
     "data": {
      "text/plain": [
       "tensor([[1., 1., 1., 1.],\n",
       "        [1., 1., 1., 1.]])"
      ]
     },
     "execution_count": 12,
     "metadata": {},
     "output_type": "execute_result"
    }
   ],
   "source": [
    "b"
   ]
  },
  {
   "cell_type": "code",
   "execution_count": 13,
   "id": "5614de06",
   "metadata": {},
   "outputs": [
    {
     "data": {
      "text/plain": [
       "tensor([[[1., 1.],\n",
       "         [1., 1.]],\n",
       "\n",
       "        [[1., 1.],\n",
       "         [1., 1.]]])"
      ]
     },
     "execution_count": 13,
     "metadata": {},
     "output_type": "execute_result"
    }
   ],
   "source": [
    "c"
   ]
  },
  {
   "cell_type": "code",
   "execution_count": 14,
   "id": "c19b5e6b",
   "metadata": {},
   "outputs": [
    {
     "data": {
      "text/plain": [
       "(tensor(8.), tensor(8.), tensor(8.))"
      ]
     },
     "execution_count": 14,
     "metadata": {},
     "output_type": "execute_result"
    }
   ],
   "source": [
    "a.norm(1),b.norm(1), c.norm(1)  #求一范数 ：所有值的绝对值的和"
   ]
  },
  {
   "cell_type": "code",
   "execution_count": 15,
   "id": "bd10793d",
   "metadata": {},
   "outputs": [
    {
     "data": {
      "text/plain": [
       "(tensor(2.8284), tensor(2.8284), tensor(2.8284))"
      ]
     },
     "execution_count": 15,
     "metadata": {},
     "output_type": "execute_result"
    }
   ],
   "source": [
    "a.norm(2),b.norm(2),c.norm(2)  #求二范数： 所有值的平方和再开根号"
   ]
  },
  {
   "cell_type": "code",
   "execution_count": 18,
   "id": "3e4e199d",
   "metadata": {},
   "outputs": [
    {
     "data": {
      "text/plain": [
       "tensor([4., 4.])"
      ]
     },
     "execution_count": 18,
     "metadata": {},
     "output_type": "execute_result"
    }
   ],
   "source": [
    "b.norm(1,dim=1)  \n",
    "#从dim=1的角度，b中为4，然后将四个1相加，得到第一行的一范数,第二行相同"
   ]
  },
  {
   "cell_type": "code",
   "execution_count": 20,
   "id": "9eac4b72",
   "metadata": {},
   "outputs": [
    {
     "data": {
      "text/plain": [
       "tensor([2., 2.])"
      ]
     },
     "execution_count": 20,
     "metadata": {},
     "output_type": "execute_result"
    }
   ],
   "source": [
    "b.norm(2,dim=1)"
   ]
  },
  {
   "cell_type": "code",
   "execution_count": 21,
   "id": "58fc9409",
   "metadata": {},
   "outputs": [
    {
     "data": {
      "text/plain": [
       "tensor([[2., 2.],\n",
       "        [2., 2.]])"
      ]
     },
     "execution_count": 21,
     "metadata": {},
     "output_type": "execute_result"
    }
   ],
   "source": [
    "c.norm(1,dim=0)"
   ]
  },
  {
   "cell_type": "code",
   "execution_count": 22,
   "id": "22742afc",
   "metadata": {},
   "outputs": [
    {
     "data": {
      "text/plain": [
       "tensor([[1.4142, 1.4142],\n",
       "        [1.4142, 1.4142]])"
      ]
     },
     "execution_count": 22,
     "metadata": {},
     "output_type": "execute_result"
    }
   ],
   "source": [
    "c.norm(2,dim=0)"
   ]
  },
  {
   "cell_type": "markdown",
   "id": "73df1de8",
   "metadata": {},
   "source": [
    "### mean,sum,min,max,prod"
   ]
  },
  {
   "cell_type": "code",
   "execution_count": 23,
   "id": "69153194",
   "metadata": {},
   "outputs": [],
   "source": [
    "a = torch.arange(8).view(2,4).float()"
   ]
  },
  {
   "cell_type": "code",
   "execution_count": 24,
   "id": "cd0798d2",
   "metadata": {},
   "outputs": [
    {
     "data": {
      "text/plain": [
       "tensor([[0., 1., 2., 3.],\n",
       "        [4., 5., 6., 7.]])"
      ]
     },
     "execution_count": 24,
     "metadata": {},
     "output_type": "execute_result"
    }
   ],
   "source": [
    "a"
   ]
  },
  {
   "cell_type": "code",
   "execution_count": 26,
   "id": "c920d35f",
   "metadata": {},
   "outputs": [
    {
     "data": {
      "text/plain": [
       "(tensor(0.), tensor(7.), tensor(3.5000), tensor(0.))"
      ]
     },
     "execution_count": 26,
     "metadata": {},
     "output_type": "execute_result"
    }
   ],
   "source": [
    "a.min(),a.max(),a.mean(),a.prod()  #.prod = product 表示累乘"
   ]
  },
  {
   "cell_type": "code",
   "execution_count": 27,
   "id": "888598b4",
   "metadata": {},
   "outputs": [
    {
     "data": {
      "text/plain": [
       "tensor(28.)"
      ]
     },
     "execution_count": 27,
     "metadata": {},
     "output_type": "execute_result"
    }
   ],
   "source": [
    "a.sum()"
   ]
  },
  {
   "cell_type": "code",
   "execution_count": 28,
   "id": "8ac6560d",
   "metadata": {},
   "outputs": [
    {
     "data": {
      "text/plain": [
       "(tensor(7), tensor(0))"
      ]
     },
     "execution_count": 28,
     "metadata": {},
     "output_type": "execute_result"
    }
   ],
   "source": [
    "a.argmax(),a.argmin()  #首先将tensor打平，之后再进行找出下标"
   ]
  },
  {
   "cell_type": "markdown",
   "id": "5bc29be0",
   "metadata": {},
   "source": [
    "### argmin,argmax"
   ]
  },
  {
   "cell_type": "code",
   "execution_count": 33,
   "id": "97728664",
   "metadata": {},
   "outputs": [],
   "source": [
    "a = torch.randn(4,10)"
   ]
  },
  {
   "cell_type": "code",
   "execution_count": 34,
   "id": "cf1f0640",
   "metadata": {},
   "outputs": [
    {
     "data": {
      "text/plain": [
       "tensor([-1.5401,  0.4818, -0.6811, -0.7897,  0.4102, -0.3106,  1.3119,  1.1820,\n",
       "        -0.1509, -0.3084])"
      ]
     },
     "execution_count": 34,
     "metadata": {},
     "output_type": "execute_result"
    }
   ],
   "source": [
    "a[0]"
   ]
  },
  {
   "cell_type": "code",
   "execution_count": 35,
   "id": "a6bb0536",
   "metadata": {},
   "outputs": [
    {
     "data": {
      "text/plain": [
       "tensor(22)"
      ]
     },
     "execution_count": 35,
     "metadata": {},
     "output_type": "execute_result"
    }
   ],
   "source": [
    "a.argmax()"
   ]
  },
  {
   "cell_type": "code",
   "execution_count": 37,
   "id": "3d9f0344",
   "metadata": {},
   "outputs": [
    {
     "data": {
      "text/plain": [
       "tensor([6, 3, 2, 4])"
      ]
     },
     "execution_count": 37,
     "metadata": {},
     "output_type": "execute_result"
    }
   ],
   "source": [
    "a.argmax(dim=1)  #表示四行中每一行最大值的下标"
   ]
  },
  {
   "cell_type": "code",
   "execution_count": 38,
   "id": "727bf24c",
   "metadata": {},
   "outputs": [
    {
     "data": {
      "text/plain": [
       "tensor([3, 1, 2, 1, 3, 3, 0, 0, 1, 3])"
      ]
     },
     "execution_count": 38,
     "metadata": {},
     "output_type": "execute_result"
    }
   ],
   "source": [
    "a.argmax(dim=0) #表示10列中取出每列的最大值下标"
   ]
  },
  {
   "cell_type": "markdown",
   "id": "ebda3fff",
   "metadata": {},
   "source": [
    "### dim,keepdim"
   ]
  },
  {
   "cell_type": "code",
   "execution_count": 39,
   "id": "2c9f6027",
   "metadata": {},
   "outputs": [
    {
     "data": {
      "text/plain": [
       "tensor([[-1.5401,  0.4818, -0.6811, -0.7897,  0.4102, -0.3106,  1.3119,  1.1820,\n",
       "         -0.1509, -0.3084],\n",
       "        [-0.3659,  1.2940,  0.2591,  1.8361, -1.2714, -0.7899, -0.7985,  0.9899,\n",
       "          1.3705, -0.3371],\n",
       "        [-0.1857, -0.8796,  2.3094, -1.0139,  0.3718, -0.5874, -0.4595,  0.2184,\n",
       "         -0.5219,  0.0589],\n",
       "        [-0.1589, -0.3125,  0.6735,  0.7408,  1.2577, -0.2824,  0.2680, -0.4380,\n",
       "          0.8514,  0.9485]])"
      ]
     },
     "execution_count": 39,
     "metadata": {},
     "output_type": "execute_result"
    }
   ],
   "source": [
    "a"
   ]
  },
  {
   "cell_type": "code",
   "execution_count": 40,
   "id": "b39187c5",
   "metadata": {},
   "outputs": [
    {
     "data": {
      "text/plain": [
       "torch.return_types.max(\n",
       "values=tensor([1.3119, 1.8361, 2.3094, 1.2577]),\n",
       "indices=tensor([6, 3, 2, 4]))"
      ]
     },
     "execution_count": 40,
     "metadata": {},
     "output_type": "execute_result"
    }
   ],
   "source": [
    "a.max(dim=1)"
   ]
  },
  {
   "cell_type": "code",
   "execution_count": 42,
   "id": "8cf98e59",
   "metadata": {},
   "outputs": [
    {
     "data": {
      "text/plain": [
       "torch.return_types.max(\n",
       "values=tensor([[1.3119],\n",
       "        [1.8361],\n",
       "        [2.3094],\n",
       "        [1.2577]]),\n",
       "indices=tensor([[6],\n",
       "        [3],\n",
       "        [2],\n",
       "        [4]]))"
      ]
     },
     "execution_count": 42,
     "metadata": {},
     "output_type": "execute_result"
    }
   ],
   "source": [
    "a.max(dim=1,keepdim=True) "
   ]
  },
  {
   "cell_type": "markdown",
   "id": "81f83b4a",
   "metadata": {},
   "source": [
    "### top-k or k-th"
   ]
  },
  {
   "cell_type": "code",
   "execution_count": 45,
   "id": "a96b7b03",
   "metadata": {},
   "outputs": [
    {
     "data": {
      "text/plain": [
       "torch.return_types.topk(\n",
       "values=tensor([[1.3119, 1.1820, 0.4818],\n",
       "        [1.8361, 1.3705, 1.2940],\n",
       "        [2.3094, 0.3718, 0.2184],\n",
       "        [1.2577, 0.9485, 0.8514]]),\n",
       "indices=tensor([[6, 7, 1],\n",
       "        [3, 8, 1],\n",
       "        [2, 4, 7],\n",
       "        [4, 9, 8]]))"
      ]
     },
     "execution_count": 45,
     "metadata": {},
     "output_type": "execute_result"
    }
   ],
   "source": [
    "a.topk(3,dim=1)  #返回维度1的前三个最大值"
   ]
  },
  {
   "cell_type": "code",
   "execution_count": 46,
   "id": "1aa22725",
   "metadata": {},
   "outputs": [
    {
     "data": {
      "text/plain": [
       "torch.return_types.topk(\n",
       "values=tensor([[-1.5401, -0.7897, -0.6811],\n",
       "        [-1.2714, -0.7985, -0.7899],\n",
       "        [-1.0139, -0.8796, -0.5874],\n",
       "        [-0.4380, -0.3125, -0.2824]]),\n",
       "indices=tensor([[0, 3, 2],\n",
       "        [4, 6, 5],\n",
       "        [3, 1, 5],\n",
       "        [7, 1, 5]]))"
      ]
     },
     "execution_count": 46,
     "metadata": {},
     "output_type": "execute_result"
    }
   ],
   "source": [
    "a.topk(3,dim=1,largest=False) #返回维度1的前三个最小值"
   ]
  },
  {
   "cell_type": "code",
   "execution_count": 49,
   "id": "673acd01",
   "metadata": {},
   "outputs": [
    {
     "data": {
      "text/plain": [
       "torch.return_types.kthvalue(\n",
       "values=tensor([0.4818, 1.2940, 0.2184, 0.8514]),\n",
       "indices=tensor([1, 1, 7, 8]))"
      ]
     },
     "execution_count": 49,
     "metadata": {},
     "output_type": "execute_result"
    }
   ],
   "source": [
    "a.kthvalue(8,dim=1)  #数字从小到大递增排序，返回第八个数"
   ]
  },
  {
   "cell_type": "code",
   "execution_count": 48,
   "id": "12603aa1",
   "metadata": {},
   "outputs": [
    {
     "data": {
      "text/plain": [
       "torch.return_types.kthvalue(\n",
       "values=tensor([-0.6811, -0.7899, -0.5874, -0.2824]),\n",
       "indices=tensor([2, 5, 5, 5]))"
      ]
     },
     "execution_count": 48,
     "metadata": {},
     "output_type": "execute_result"
    }
   ],
   "source": [
    "a.kthvalue(3)"
   ]
  },
  {
   "cell_type": "markdown",
   "id": "84b38616",
   "metadata": {},
   "source": [
    "### compare"
   ]
  },
  {
   "cell_type": "code",
   "execution_count": 50,
   "id": "52955268",
   "metadata": {},
   "outputs": [
    {
     "data": {
      "text/plain": [
       "tensor([[False,  True, False, False,  True, False,  True,  True, False, False],\n",
       "        [False,  True,  True,  True, False, False, False,  True,  True, False],\n",
       "        [False, False,  True, False,  True, False, False,  True, False,  True],\n",
       "        [False, False,  True,  True,  True, False,  True, False,  True,  True]])"
      ]
     },
     "execution_count": 50,
     "metadata": {},
     "output_type": "execute_result"
    }
   ],
   "source": [
    "a>0"
   ]
  },
  {
   "cell_type": "code",
   "execution_count": 53,
   "id": "d3827960",
   "metadata": {},
   "outputs": [
    {
     "data": {
      "text/plain": [
       "tensor([[False,  True, False, False,  True, False,  True,  True, False, False],\n",
       "        [False,  True,  True,  True, False, False, False,  True,  True, False],\n",
       "        [False, False,  True, False,  True, False, False,  True, False,  True],\n",
       "        [False, False,  True,  True,  True, False,  True, False,  True,  True]])"
      ]
     },
     "execution_count": 53,
     "metadata": {},
     "output_type": "execute_result"
    }
   ],
   "source": [
    "torch.ge(a,0)"
   ]
  },
  {
   "cell_type": "code",
   "execution_count": 54,
   "id": "7270d0ee",
   "metadata": {},
   "outputs": [
    {
     "data": {
      "text/plain": [
       "tensor([[True, True, True, True, True, True, True, True, True, True],\n",
       "        [True, True, True, True, True, True, True, True, True, True],\n",
       "        [True, True, True, True, True, True, True, True, True, True],\n",
       "        [True, True, True, True, True, True, True, True, True, True]])"
      ]
     },
     "execution_count": 54,
     "metadata": {},
     "output_type": "execute_result"
    }
   ],
   "source": [
    "a!=0"
   ]
  },
  {
   "cell_type": "code",
   "execution_count": 55,
   "id": "953503da",
   "metadata": {},
   "outputs": [],
   "source": [
    "a = torch.ones(2,3)"
   ]
  },
  {
   "cell_type": "code",
   "execution_count": 56,
   "id": "e5b36393",
   "metadata": {},
   "outputs": [],
   "source": [
    "b = torch.randn(2,3)"
   ]
  },
  {
   "cell_type": "code",
   "execution_count": 57,
   "id": "66cbea74",
   "metadata": {},
   "outputs": [
    {
     "data": {
      "text/plain": [
       "tensor([[False, False, False],\n",
       "        [False, False, False]])"
      ]
     },
     "execution_count": 57,
     "metadata": {},
     "output_type": "execute_result"
    }
   ],
   "source": [
    "torch.eq(a,b)"
   ]
  },
  {
   "cell_type": "code",
   "execution_count": 59,
   "id": "393b299d",
   "metadata": {},
   "outputs": [
    {
     "data": {
      "text/plain": [
       "tensor([[True, True, True],\n",
       "        [True, True, True]])"
      ]
     },
     "execution_count": 59,
     "metadata": {},
     "output_type": "execute_result"
    }
   ],
   "source": [
    "torch.eq(a,a)"
   ]
  },
  {
   "cell_type": "code",
   "execution_count": 60,
   "id": "56706e2d",
   "metadata": {},
   "outputs": [
    {
     "data": {
      "text/plain": [
       "True"
      ]
     },
     "execution_count": 60,
     "metadata": {},
     "output_type": "execute_result"
    }
   ],
   "source": [
    "torch.equal(a,a)"
   ]
  },
  {
   "cell_type": "code",
   "execution_count": null,
   "id": "96ff4470",
   "metadata": {},
   "outputs": [],
   "source": []
  }
 ],
 "metadata": {
  "kernelspec": {
   "display_name": "Python 3 (ipykernel)",
   "language": "python",
   "name": "python3"
  },
  "language_info": {
   "codemirror_mode": {
    "name": "ipython",
    "version": 3
   },
   "file_extension": ".py",
   "mimetype": "text/x-python",
   "name": "python",
   "nbconvert_exporter": "python",
   "pygments_lexer": "ipython3",
   "version": "3.9.12"
  }
 },
 "nbformat": 4,
 "nbformat_minor": 5
}
